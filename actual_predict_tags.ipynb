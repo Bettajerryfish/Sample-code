{
 "cells": [
  {
   "cell_type": "code",
   "execution_count": 1,
   "metadata": {},
   "outputs": [],
   "source": [
    "import numpy as np\n",
    "from sklearn.pipeline import Pipeline\n",
    "from sklearn.feature_extraction.text import CountVectorizer\n",
    "from sklearn.svm import LinearSVC\n",
    "from sklearn.feature_extraction.text import TfidfTransformer\n",
    "from sklearn.multiclass import OneVsRestClassifier\n",
    "from sklearn.preprocessing import MultiLabelBinarizer\n",
    "from sklearn.metrics import jaccard_similarity_score\n",
    "from sklearn.metrics import hamming_loss\n",
    "import csv\n",
    "import itertools\n",
    "from random import shuffle\n",
    "import numpy"
   ]
  },
  {
   "cell_type": "code",
   "execution_count": 2,
   "metadata": {},
   "outputs": [],
   "source": [
    "# Random shuffle of data\n",
    "link='dataset.csv'\n",
    "with open(link, newline='', encoding='utf8') as f:\n",
    "    data = f.readlines()\n",
    "header = data[0]\n",
    "rest = data[1:]\n",
    "shuffle(rest)\n",
    "temp_link='temp_preprocessed_data.csv'\n",
    "with open(temp_link, 'w') as out:\n",
    "    out.write(''.join([header]+rest))"
   ]
  },
  {
   "cell_type": "code",
   "execution_count": 3,
   "metadata": {},
   "outputs": [],
   "source": [
    "# Removing empty rows\n",
    "\n",
    "shuffle_link='shuffled_preprocessed_data.csv'\n",
    "\n",
    "input1 = open(temp_link, 'r')\n",
    "output1 = open(shuffle_link, 'w')\n",
    "\n",
    "reader = csv.reader(input1)\n",
    "writer = csv.writer(output1)\n",
    "\n",
    "for line in input1.readlines():\n",
    "    if line.strip()=='':\n",
    "        continue\n",
    "    output1.write(line)\n",
    "\n",
    "input1.close()\n",
    "output1.close()"
   ]
  },
  {
   "cell_type": "code",
   "execution_count": 4,
   "metadata": {},
   "outputs": [
    {
     "name": "stdout",
     "output_type": "stream",
     "text": [
      "5678\n",
      "299\n",
      "[['cinema', 'trailer', 'official', 'movie', 'ready official trailer', 'samara weaving', 'fear movie'], ['frog', 'rainbow', 'connection', 'comedy', 'good', 'movie', 'swamp', 'banjo', 'aerial', 'look', 'jim'], ['dancer', 'dark', 'trailer', 'movie', 'official', 'dance dark', 'lars trier', 'david morse', 'catherine', 'danish', 'palm', 'movie festival'], ['awful', 'awful movie', 'awful clip', 'awful scene', 'awful compilation', 'clip', 'scene', 'compilation', 'trailer', 'chloe bennet', 'albert', 'pearl', 'animation', 'fandango', 'family'], ['help', 'future', 'de', 'time', 'machine', 'scene', 'first', 'move', 'testing', 'experiment', 'temporal', 'shopping', 'mall', 'twin', 'trilogy', 'trailer', 'new'], ['movie clip', 'danish girl', 'danish girl movie', 'danish girl trailer', 'tom hooper', 'oscar movie', 'best leading actor nominee', 'best supporting actress nominee', 'best costume plan nominee', 'best production plan nominee', 'school award nominee'], ['vinyl collection', 'adam martyn', 'vinyl collection part', 'adam martyn vinyl', 'ha take live', 'owe nothing', 'abba', 'dark eyed', 'adam martyn collection', 'test card f', 'story collection', 'vinyl', 'belinda carlisle', 'bonnie tyler total eclipse heart'], ['official', 'music video', 'video', 'single', 'album', 'jay z', 'upgrade', 'sorry', 'halo', 'single ladies', 'insane love', 'irreplaceable', 'love top', 'best thing never', 'partition', 'video smartphone', 'beautiful liar', 'feat jay z', 'columbia', 'pop', 'upgrade u'], ['movie clip', 'trailer', 'official', 'president men trailer', 'thriller', 'movie', 'president', 'resignation', 'jack warden', 'washington'], ['movie clip', 'trailer', 'official', 'high sierra trailer', 'humphrey bogart', 'alan curtis', 'joan leslie', 'adventure', 'crime', 'drama'], ['isabelle', 'insecurity', 'divorce', 'drama', 'edith scob', 'philosophy', 'teacher', 'death', 'mother', 'fired', 'husband', 'cheating', 'infidelity', 'paris', 'high school', 'married', 'marriage', 'family'], ['movie', 'student', 'short'], ['jennie bond', 'peter andre', 'lord brocket', 'katie mark', 'jordan', 'alex best', 'johnny bad', 'neil ruddock', 'mike read'], ['breakfast club', 'celebrity news', 'radio', 'video', 'interview', 'angela yee', 'envy', 'lena interview', 'lena breakfast club', 'lena interview breakfast club', 'lena queen slim', 'lena jason mitchell', 'lena married'], ['lion king', 'official trailer', 'donald glover', 'michael key', 'james earl jones', 'john oliver'], ['henry', 'serial killer'], ['breach', 'grace', 'tough', 'something', 'lewis', 'divinely uninspired hellish extent', 'scottish', 'sexy jungle cat', 'doctor', 'let guard', 'love song', 'unhappy song', 'organ donation', 'heart transplant', 'toilet brush', 'sam smith', 'bastille', 'tom walker'], ['zero', 'conduct'], ['lifetime', 'lifetime channel', 'little', 'atlanta', 'la atlanta', 'little tell', 'little people', 'juicy', 'little atlanta fat', 'little atlanta clip', 'little atlanta', 'little atlanta season episode', 'little performance', 'final count'], ['roman movie director', 'robert celebrity', 'farrow celebrity', 'rosemary baby award winning work', 'blood', 'fear', 'psychological fear', 'satan', 'chinatown', 'movie', 'cinematographer', 'criterion collection', 'cinema', 'documentary', 'interview', 'culture', 'wild', 'international', 'strange', 'independent', 'underground', 'funny', 'journalism', 'vice guide', 'vice news', 'criterion'], ['racing times high', 'marijuana', 'comedy', 'slow night', 'irving', 'movie clip'], ['criterion collection', 'independent', 'foreign', 'cult', 'classic', 'movie', 'director', 'actor', 'actress', 'cinema', 'cinematography', 'movie buff', 'movie lover', 'continental', 'school award', 'best new song', 'happy divorce', 'fred ginger', 'dancing', 'singing', 'kill', 'make', 'couple', 'duo', 'musical', 'code'], ['scorpio', 'scorpio rising', 'scorpio ascendant', 'soul vibration', 'astrology', 'scorpio first house'], ['batman', 'dark knight', 'movie clip', 'heath ledger', 'joker', 'christian bale', 'movie scene', 'christopher', 'fat scene', 'ending scene', 'ending speech', 'epilogue scene', 'final speech', 'magnum opus cinema'], ['oswald', 'president', 'shot', 'america', 'sunday morning', 'video', 'news video'], ['platoon movie', 'platoon movie scene', 'platoon movie clip', 'platoon charlie sheen', 'platoon tom', 'platoon oliver stone', 'platoon fat movie', 'movie scene', 'movie clip', 'platoon forest', 'platoon scene', 'platoon clip', 'platoon death', 'platoon village', 'platoon death scene', 'platoon ambush', 'platoon ending', 'platoon opening'], ['cinema'], ['nazi', 'propaganda', 'movie', 'documentary'], ['red psalm', 'portuguese'], ['ray trailer', 'trailer', 'movie trailer', 'movie', 'classic', 'classic movie', 'oscar winner trailer', 'mutiny bounty movie', 'mutiny bounty trailer', 'mutiny bounty ray trailer', 'ray book', 'warner entertainment organization', 'collection'], ['movie clip', 'trailer', 'official', 'nerve', 'nerve movie', 'nerve trailer', 'thriller', 'jeanne', 'dave franco', 'high school', 'truth dare', 'based new'], ['international', 'morgan freeman', 'terence mark', 'popular', 'trailer'], ['gotham city', 'extended universe', 'suicide squad', 'wonder woman', 'warner', 'trailer', 'official trailer', 'teaser trailer', 'movie', 'coming soon', 'superhero', 'action', 'adventure', 'wong', 'mary elizabeth', 'cathy yan', 'bop', 'prey movie'], ['continuity', 'natural born'], ['movie review', 'parasite meaning', 'bong joon ho parasite', 'parasite', 'parasite movie analysis', 'parasite right movie', 'parasite video essay', 'look parasite', 'movie critic parasite', 'parasite reaction', 'korean movie review', 'symbolism parasite', 'funny movie review', 'asian movie'], ['spotlight', 'spotlight trailer', 'spotlight jennifer', 'spotlight room run', 'success', 'michael sugar', 'jonathan king', 'michael', 'brian james', 'newsroom'], ['foreign romance', 'kelly miller', 'conflict', 'diego luna', 'negotiation', 'control', 'foreign', 'foreign steamy romance', 'alfonso movie director', 'gael musical artist'], ['documentary', 'universe', 'earth', 'solar system', 'place documentary', 'science', 'discovery', 'cosmos'], ['iranian', 'movie', 'leprosy', 'leper', 'colony', 'house', 'dark', 'ast', 'history'], ['star episode', 'star news'], ['attack', 'gas', 'place', 'korean', 'movie', 'trailer', 'comedy'], ['electron configuration', 'principle', 'exclusion principle', 'energy level', 'sublevel', 'electron move'], ['say anything', 'say anything trailer', 'say anything movie trailer', 'say anything official trailer', 'trailer', 'movie trailer', 'fandango', 'comedy', 'drama', 'romance', 'ione skye', 'classic', 'old trailer'], ['wizard clip', 'wizard fat movie', 'wizard trailer', 'judy garland', 'terry', 'george', 'victor fleming', 'classic movie', 'family fi fantasy', 'arthur freed', 'toto', 'dorothy gale', 'movie clip'], ['mr smith goes washington', 'claude', 'eugene pallette', 'edward arnold', 'newspaper', 'trumpet', 'classic', 'political', 'frank capra', 'confidence', 'conflict', 'injustice', 'judgment', 'manipulation', 'politics', 'living room', 'senator joseph', 'governor hopper', 'jim taylor', 'movie clip'], ['marathon', 'mountain run', 'mountain racing', 'alaska', 'ak', 'max', 'natalie', 'holly olympic athlete', 'racing', 'trailer category'], ['bleed movie', 'miles teller', 'bleed trailer', 'biography', 'drama', 'sport', 'ben younger', 'international champion', 'boxer', 'boxing', 'comeback', 'fandango', 'new trailer', 'trailer'], ['board game', 'game', 'dice', 'dice tower', 'melody', 'dan king', 'review', 'game review', 'catan', 'dominion', 'pandemic'], ['gerard bush', 'christopher', 'fear', 'thriller', 'psychological', 'us', 'hereditary', 'joker'], ['rocky', 'fear', 'time', 'warp'], ['james bond', 'best james bond', 'worst james bond', 'james bond ranked', 'bond ranked', 'best bond', 'worst bond', 'best bond actor', 'worst bond actor', 'best bond movie', 'bond movie', 'james bond movie', 'james bond movie bad', 'bond best worst', 'bond must look'], ['day stupid', 'day stupid fat movie'], ['wake fear', 'gary bond'], ['boy', 'george', 'crying', 'game', 'culture', 'club', 'neil', 'jordan', 'boy george singer', 'oscar', 'anne', 'dudley', 'madonna', 'lady', 'happy', 'romantic'], ['best episode', 'suspense radio', 'raymond chandler', 'kill', 'mystery', 'bogart', 'sam spade', 'maltese falcon', 'audio drama'], ['movie clip', 'trailer', 'official', 'baby trailer', 'katharine', 'cary grant', 'george irving', 'fritz', 'howard', 'comedy', 'romance', 'leopard'], ['rocky theme song', 'rocky', 'rocky fear describe tell', 'rocky balboa inspirational speech', 'rocky balboa', 'rocky balboa speech', 'rocky mountain high john', 'rocky theme', 'rocky road', 'rocky top'], ['dick tracy', 'waiting big hero'], ['halloween', 'fear', 'christopher lee', 'wicker man', 'british', 'hereditary'], ['aviator', 'aviator clip', 'aviator part', 'helen jane long', 'frances', 'kenneth welsh', 'james bradford', 'century period', 'biography', 'drama', 'graham king', 'joseph p', 'michael mann', 'movie clip'], ['jimmy', 'jimmy live', 'slow night', 'talk tell', 'funny', 'comedic', 'comedy', 'clip', 'comedian', 'honey boy', 'peace corps', 'actor', 'karate'], ['claire', 'denis', 'narration', 'perspective', 'fate', 'movie', 'european', 'graduate', 'school'], ['latest end', 'mongrel media'], ['feel', 'lucky', 'punk', 'dirty', 'harry', 'shoot', 'clint', 'feeling', 'thinking', 'got', 'ask', 'dirty harry movie', 'self', 'one', 'movie', 'bank', 'robbery', 'scene', 'magnum', 'blow', 'head', 'neat', 'feel lucky punk', 'well ya', 'diner', 'hand', 'gun', 'ya', 'caliber', 'cal', 'feel lucky', 'feeling lucky', 'international'], ['student year', 'calling', 'right story', 'espionage', 'look', 'cinema'], ['random weekend', 'slingshot target', 'king random', 'pellet gun target', 'explode', 'bang', 'water', 'bottle', 'weekend project', 'loud', 'gun', 'laser blowgun', 'experiment', 'science', 'sonic inform', 'angry science', 'science experiment', 'household', 'target practice'], ['destroyer', 'blues', 'track', 'two', 'take', 'airplane', 'canadian'], ['latest describe tell movie', 'shepherd author', 'luke wilson movie writer', 'timothy personality', 'school', 'event', 'anniversary'], ['whats new', 'wake fear', 'movie', 'tiff', 'festival', 'international'], ['james movie actor', 'humphrey bogart movie actor', 'michael movie director'], ['graduate', 'sound', 'silence', 'simon'], ['tamil movie', 'tamil latest', 'tamil latest movie', 'dance video', 'lakshmi song', 'lakshmi movie', 'lakshmi dance performance', 'prabhu deva dance', 'prabhu deva dance video', 'prabhu deva', 'prabhu deva dance lakshmi', 'prabhu deva latest movie', 'prabhu deva tamil new'], ['departed', 'movie', 'martin', 'jack', 'frank', 'oscar'], ['gestapo', 'british movie institute publisher', 'british', 'movie', 'institute', 'louis movie director', 'international war military conflict', 'french resistance literature subject', 'drama genre', 'french', 'french movie', 'sub international war'], ['movie scene', 'la double vie de', 'opera song', 'theater scene', 'movie movie', 'high quality', 'irene jacob'], ['glory', 'glory clip', 'glory love', 'glory glory man united', 'edward', 'african american', 'drama', 'based true life', 'military war', 'military action adventure', 'pieter jan', 'freddie', 'failure', 'violence', 'battlefield', 'movie clip'], ['motherless', 'trailer', 'motherless trailer', 'movie', 'drama', 'drama movie', 'official', 'international', 'clip', 'predicament', 'motherless movie'], ['best', 'youth', 'italian', 'boni', 'luigi', 'lo'], ['hide rant', 'joker', 'dancing', 'arthur fleck', 'batman', 'murray franklin', 'pogo comedy club', 'joker theory', 'trailer joker', 'batman joker', 'robert batman', 'joker dance', 'joker trailer', 'break joker'], ['marathi', 'new marathi', 'marathi movie', 'wedding cha', 'ye ye paisa trailer', 'ye ye paisa marathi movie', 'ye ye paisa fat movie'], ['chapter', 'chapter two', 'stephen king', 'beverly', 'bill', 'mike', 'ben', 'eddie', 'andy bean', 'stanley', 'jack dylan grazer', 'jeremy ray taylor', 'fear', 'new line', 'warner', 'movie', 'official trailer'], ['international', 'racing times high', 'jennifer jason leigh', 'phoebe', 'brian backer', 'sex', 'rock roll', 'high school', 'california', 'teen', 'surfer', 'surf', 'racing times high trailer', 'stacy hamilton', 'amanda wyss', 'nicolas cage'], ['suite', 'leopard', 'burt lancaster', 'terence hill'], ['true thing', 'true thing clip', 'true thing part', 'true thing trailer', 'john savage', 'independent', 'african american', 'drama', 'social inform', 'spike lee', 'monty ross', 'conflict', 'discrimination', 'sidewalk', 'movie clip'], ['trailer', 'teaser', 'movie', 'classic trailer', 'remake'], ['francisco'], ['bradley cooper', 'shallow', 'lady shallow', 'shallow lady', 'bradley cooper shallow', 'star born', 'shallow karaoke', 'shallow lyric video', 'pop', 'lady bradley cooper shallow', 'lady'], ['interview', 'huma', 'latest', 'entertainment', 'hindi', 'movie', 'news', 'cinema', 'media', 'trailer'], ['quiet story', 'restoration', 'british movie institute', 'quiet movie', 'carl music', 'movie', 'french cinema', 'quiet cinema', 'november', 'napoleon', 'napoleon vu par abel', 'release', 'british movie institute publisher', 'trailer'], ['patrick doyle', 'robert de', 'chris cooper', 'charles dickens', 'get', 'movie', 'music', 'suite'], ['reversal fortune', 'reversal fortune scene', 'reversal fortune clip', 'reversal fortune movie', 'reversal fortune jeremy', 'jeremy', 'reversal fortune glenn end', 'glenn end', 'reversal fortune ron silver', 'ron silver', 'movie', 'clip', 'scene', 'fat movie', 'reversal fortune inside case', 'best actor', 'nicholas'], ['better hello', 'john barry musical artist', 'better hello karen theme', 'music genre', 'movie get musical genre', 'composition type', 'album musical genre'], ['peter jackson', 'diana kent', 'trailer', 'official trailer', 'pauline parker', 'juliet'], ['international', 'far heaven', 'dennis'], ['upon time china', 'china', 'fight', 'fight scene', 'battle', 'right', 'ugly', 'jet li', 'donnie yen', 'jet li donnie yen', 'donnie jet li', 'martial art', 'kung fu', 'kick', 'kick ass'], ['dark widow trailer', 'dark widow', 'dark widow teaser trailer', 'marvel phase', 'dark widow official trailer', 'dark widow teaser', 'dark widow movie', 'dark widow movie trailer', 'dark widow footage', 'wonder woman trailer', 'cosmic wonder', 'marvel news', 'news', 'phase news'], ['life brian', 'monty python', 'comedy', 'funny', 'roman', 'rome', 'centurion', 'brian', 'life'], ['independent movie', 'cinema', 'clip', 'trailer', 'new trailer', 'juno', 'young adult', 'nanny', 'night nanny'], ['international', 'elizabeth golden age', 'geoffrey run', 'clive owen', 'samantha morton', 'abbie cornish'], ['aileen', 'brutal', 'female', 'serial', 'killer', 'crime'], ['lee marvin', 'big red one', 'interview'], ['lion king', 'official trailer', 'donald glover', 'michael key', 'james earl jones', 'john oliver'], ['scene', 'movie', 'wes anderson', 'cinema', 'clip', 'drama'], ['gifted official trailer', 'gifted movie trailer', 'gifted trailer', 'gifted', 'gifted chris movie', 'chris new movie', 'jenny slate', 'octavia spencer', 'lindsay duncan', 'chris drama', 'family drama movie', 'chris family drama', 'child prodigy', 'fox searchlight', 'new movie', 'movie', 'new trailer', 'official trailer', 'fox searchlight new movie', 'days summer'], ['upon time hollywood', 'hollywood', 'leo brad', 'charles', 'upon time', 'upon time hollywood trailer', 'official trailer', 'upon time hollywood official trailer', 'rick dalton', 'cliff booth', 'trailer'], ['anthony movie actor', 'month', 'sunday', 'trailer', 'movie media genre', 'true estate'], ['help future', 'michael jay fox', 'help future part', 'robert help future', 'bob gale', 'movie scene', 'christopher lloyd', 'emmett brown', 'time machine', 'help future doc house', 'help future marty doc', 'help future clock scene', 'help future telling', 'help future slow school'], ['ivan awful', 'ivan awful part'], ['live night', 'live night trailer', 'live night movie', 'live night teaser trailer', 'live night official trailer', 'live night trailer official', 'elle fanning', 'sienna miller', 'chris cooper', 'argo', 'gone baby gone', 'movie', 'warner', 'trailer'], ['raging bull', 'raging bull trailer', 'raging bull fat movie', 'raging bull scene', 'drama', 'robert de', 'violence', 'peter savage', 'based true life', 'boxing glove', 'period century', 'boxing ring', 'joey', 'boxing'], ['comedy hanging rock award winning work', 'trailer', 'australian', 'peter weir movie director', 'weaver movie actor', 'john award winner', 'anne louise lambert actor'], ['ye ye paisa trailer', 'ye ye paisa official trailer', 'ye ye paisa', 'ye ye paisa official teaser', 'ye ye paisa movie', 'upcoming marathi', 'latest marathi', 'latest marathi official', 'marathi', 'marathi entertainment'], ['gerard bush', 'christopher', 'teaser', 'official teaser', 'thriller', 'fear', 'run', 'mystery'], ['vendetta', 'speech', 'movie', 'v vendetta', 'v vendetta movie', 'james bond', 'david', 'short', 'feat', 'new', 'track', 'trailer', 'theme', 'short movie', 'high definition television'], ['easy rider', 'blue chips', 'musical album', 'bird wire', 'riff raff', 'danny brown', 'weed', 'acid', 'motorcycle', 'brunch', 'symbol', 'official music video', 'new music', 'interview', 'vice', 'punk', 'hip hop', 'rap', 'rock', 'punk rock', 'tour', 'pop', 'electro', 'live', 'alternative', 'new'], ['warner', 'bruce', 'boss', 'rock', 'rock roll', 'western', 'western movie', 'concert', 'e street band', 'new jersey', 'cowboy', 'bruce album'], ['poker awful beat', 'poker', 'best poker', 'phil poker', 'awful poker', 'poker compilation', 'phil explosion', 'funny poker'], ['tutorial', 'edgar allan poe', 'christopher lee', 'tales'], ['lifetime', 'lifetime channel', 'little', 'lot beef', 'little la', 'little la season', 'little la season episode', 'fat lifetime', 'lifetime fat episode', 'fat episode clip', 'little season episode'], ['prestige', 'prestige trailer', 'prestige official trailer', 'prestige movie trailer', 'trailer', 'drama', 'mystery', 'rivalry', 'christopher', 'christian bale', 'hugh jackman', 'michael', 'rebecca hall'], ['movie clip', 'trailer', 'official', 'point blank trailer', 'lee marvin', 'double crossed', 'crime', 'drama', 'thriller'], ['independent movie', 'movie movement', 'movie', 'cinema', 'foreign movie', 'official', 'independent', 'trailer', 'official trailer', 'geoff murphy', 'calm earth', 'latest man earth', 'bruno lawrence', 'post apocalyptic', 'science fiction'], ['movie', 'trailer'], ['happy', 'movie', 'trailer'], ['fear', 'attraction', 'sexuality', 'survival', 'tobe hooper', 'stretch brock', 'cult fear'], ['crouching tiger hidden dragon', 'crouching tiger hidden dragon fat movie', 'crouching tiger hidden dragon fight scene', 'crouching tiger hidden dragon trailer', 'crouching tiger hidden dragon part', 'crouching tiger hidden dragon fat movie english', 'crouching tiger hidden dragon ending', 'crouching tiger hidden dragon fight', 'crouching tiger hidden dragon movie'], ['albert fish grey man', 'grey man', 'albert fish', 'morbid', 'john wayne pogo clown', 'john wayne', 'jeffery', 'worst serial killer history', 'killer clown', 'worst serial killer', 'worst serial killer time', 'top serial', 'top serial time', 'take dyke', 'serial killer cannibal', 'cannibal', 'killer', 'child serial'], ['parody', 'new', 'downfall', 'clip', 'react', 'reaction', 'informed', 'angry', 'international', 'war', 'funny', 'comedy', 'downfall movie'], ['brick', 'brick game', 'brick beautiful', 'beautiful', 'brick gas place', 'brick working'], ['director cut movie cut type', 'pawnee people', 'pawnee attack'], ['fox searchlight', 'rabbit', 'christine', 'roman griffin', 'rebel wilson', 'stephen merchant', 'fox searchlight movie'], ['dance', 'animation', 'cartoon', 'love', 'romance', 'nutcracker', 'magic'], ['david lean', 'bernard miles', 'tony wager'], ['terminator salvation', 'terminator salvation clip', 'terminator salvation trailer', 'terminator salvation theme', 'shotgun', 'action fi fantasy', 'fi fantasy', 'andrew g', 'peter graves', 'steve gaub', 'movie clip'], ['sports news', 'nightly news', 'mental health', 'nightly news lester holt', 'news', 'breaking news', 'us news', 'international news', 'politics', 'popular', 'pop culture', 'business', 'health', 'lester holt', 'news lester holt', 'nightly news episode', 'news fat', 'nightly news fat', 'football game', 'offensive lineman brandon', 'brandon', 'football'], ['wide blind love', 'let move', 'acoustic', 'folk', 'boy cried wolf', 'home', 'live', 'album', 'guitar', 'karaoke', 'hide', 'piano', 'simple song', 'hearts fire', 'anywhere', 'beautiful', 'caravan', 'lucy rose', 'hate', 'life living', 'racing automobiles', 'hotel california', 'runaway', 'sound silence', 'george ezra', 'james bay', 'selina'], ['jimmy', 'cliff', 'many', 'bad', 'district', 'st', 'james', 'jamaica'], ['bowling columbine', 'bowling columbine movie', 'wolfram', 'preparation', 'madness', 'michael moore', 'charlie', 'charles bishop', 'documentary', 'kathleen glynn', 'michael donovan'], ['top', 'plus', 'scary', 'movie', 'creepy', 'true', 'fear', 'right', 'inspired', 'true people', 'mystery', 'right scary', 'paranormal', 'ghost', 'possession', 'joe ball', 'exorcism', 'father gary thomas', 'zodiac killer', 'charles', 'ed lorraine warren', 'chucky', 'child play', 'ed gein', 'analysis', 'exorcist', 'fear movie'], ['collateral', 'collateral clip', 'collateral trailer', 'tom cruise', 'jamie', 'michael mann', 'thriller', 'michael', 'michael waxman', 'affirmation', 'loneliness', 'survival', 'max', 'annie', 'vincent', 'movie clip'], ['cinema movie', 'moscow', 'school award award', 'foreign language movie', 'acceptance', 'speech', 'take'], ['grateful stupid', 'one go away road feeling awful morning dew', 'auditorium', 'bill graham', 'track', 'new year eve', 'rock', 'classic rock', 'live', 'live music', 'official', 'concert', 'performance', 'music vault'], ['raising arizona', 'raising arizona trailer', 'raising arizona fat movie', 'raising arizona theme', 'comedy', 'john goodman', 'holly hunter', 'responsibility', 'nicolas cage', 'ethan', 'dark comedy dark', 'friendship', 'parenthood'], ['one flew', 'one flew cuckoo nest', 'one flew cuckoo nest new ken', 'one flew cuckoo nest book', 'one flew cuckoo nest award winning work', 'ken novelist', 'book review', 'book describe', 'fiction literary genre', 'literature media genre', 'literature review literature subject', 'literary criticism field look', 'analysis quotation subject', 'wisecrack', 'wisecrack edition'], ['kim jong un', 'dictator', 'regime', 'tourism', 'nuclear', 'threat', 'power', 'documentary'], ['marie christine', 'french new wave', 'night maud', 'trailer'], ['italian cinema', 'thriller', 'crime', 'international cinema'], ['indiana', 'indiana jones steven', 'indiana jones movie', 'indiana jones scene', 'indiana jones paramount', 'indiana jones', 'ford indiana jones', 'indiana jones movie clip', 'lost ark idol temple', 'lost ark entering cave'], ['upon time america', 'sergio', 'gangster', 'american cinema', 'crime', 'eyebrow cinema', 'movie', 'video essay', 'robert de', 'godfather', 'scarface', 'public enemy', 'bonnie clyde', 'western', 'movie review', 'little caesar', 'warner', 'white heat', 'movie noir', 'new hollywood', 'classic hollywood', 'irishman'], ['charlie bean', 'sam elliott', 'benedict wong', 'dogs'], ['business insider', 'business news', 'goodyear', 'blimp', 'aircraft', 'airship', 'aerial', 'florida', 'pompano beach', 'fly', 'flight', 'air', 'automobiles'], ['link', 'tim', 'grime', 'free', 'hip hop', 'rap', 'city', 'music', 'video', 'urban', 'degree', 'hosting', 'claim', 'credit', 'donate', 'insurance', 'mortgage', 'charlie', 'sloth', 'spiff', 'big', 'drake', 'slow', 'russ', 'mist', 'chip'], ['trailer category', 'movie noir movie genre'], ['wake fear movie', 'wake fear', 'quite hollywood', 'outback', 'trailer', 'movie forum', 'angry max', 'deliverance', 'straw dogs', 'classic', 'masterpiece', 'anniversary', 'restoration', 'australia', 'adelaide'], ['african queen', 'humphrey bogart', 'c forester', 'international war'], ['pianist award winning work', 'thomas movie actor', 'actor profession', 'pianist profession', 'composer profession', 'international war military conflict', 'movie', 'food', 'coat', 'oscar', 'war', 'german army officer', 'movie scene', 'english subtitle'], ['fat movie'], ['rick latest coming collapse'], ['irene', 'jacob', 'krzysztof'], ['f false', 'art', 'fraud'], ['money', 'television', 'computer', 'supernatural', 'learn', 'politics', 'theory', 'school', 'truth', 'universe', 'crime', 'best', 'conspiracy', 'violent', 'gang', 'prison', 'movie', 'twitter', 'india', 'history', 'first', 'animal', 'nat geo', 'science', 'bad', 'paranormal', 'physics', 'mystery', 'death', 'sex', 'music', 'america', 'russia', 'web', 'china', 'nature', 'president', 'national geographic', 'political', 'documentary', 'international', 'illuminati', 'new', 'discovery', 'channel', 'alien', 'strange', 'secret', 'government'], ['david', 'hamlet', 'monologue', 'gregory', 'soliloquy'], ['movie', 'news', 'review', 'reaction', 'cinema', 'trailer', 'india', 'official', 'indian', 'trailer reaction', 'craving', 'upon time india official trailer reaction review', 'lagan trailer review', 'trailer review'], ['movie clip', 'trailer', 'official', 'secretary', 'secretary trailer', 'comedy', 'romance', 'drama', 'love', 'mental', 'lawyer', 'job', 'relationship', 'sexual', 'sex', 'masochism', 'james spader'], ['frankenstein', 'gene wilder'], ['persona', 'overview', 'review', 'persona golden', 'persona portable', 'innocent sin', 'eternal punishment', 'persona q', 'persona arena', 'dancing night', 'persona history', 'persona review', 'persona overview', 'persona chronology', 'every persona game', 'persona series overview', 'complete overview persona', 'persona series'], ['one night clip', 'one night part', 'clark gable', 'ward bond', 'luggage', 'classic romantic', 'classic', 'romantic', 'screwball', 'frank capra', 'harry', 'automobiles driver', 'movie clip'], ['sir christopher lee', 'christopher lee', 'edgar allan poe', 'poe', 'raven', 'nevermore', 'poem', 'vincent mark', 'edgar poe', 'christopher frank lee', 'poetry', 'poesie'], ['elvis', 'presley', 'lonesome', 'tonight', 'june', 'roy', 'turk', 'lou'], ['three colors trilogy', 'video essay', 'metaphysics', 'hollywood new wave', 'irene jacob', 'batman superman bleed', 'spiritual', 'la double vie de', 'best foreign', 'maleficent', 'analysis', 'review'], ['york', 'battle scene', 'gary cooper', 'medal honor', 'sergeant york'], ['movie clip', 'trailer', 'official', 'roger trailer', 'michael moore', 'roger smith', 'general', 'flint michigan', 'losing job', 'sending overseas', 'scathing documentary', 'michael moore documentary', 'fahrenheit', 'bowling columbine'], ['spider man', 'sucker punch', 'terminator salvation', 'star episode phantom menace', 'trailer category'], ['merry clayton actor', 'shelter composition'], ['movie clip', 'trailer', 'official', 'death venice trailer', 'drama', 'carole andre'], ['bicycle', 'thief', 'di', 'de', 'movie', 'trailer', 'italian', 'neorealism'], ['movie', 'paul thomas anderson'], ['big sleep', 'trailer', 'cry factory', 'cry', 'movie', 'sports night'], ['wiltshire man', 'itchy boots', 'history', 'himalayan motorcycle', 'royal himalayan', 'adventure motor cycle', 'adventure', 'micro adventure', 'exploring', 'balas knap'], ['true', 'stuff', 'theme'], ['gary kent', 'amazing move', 'amazing move gary kent', 'along rabbit proof fence', 'rabbit proof fence', 'faith', 'hope', 'jesus'], ['top gun', 'top gun maverick', 'maverick', 'top gun sequel', 'top gun remake', 'tom cruise', 'miles teller', 'lewis pullman', 'ed harris', 'paramount', 'official trailer', 'trailer', 'new trailer', 'action movie genre', 'new movie', 'coming soon'], ['fear documentary possession satan right story exorcist'], ['island', 'pop', 'cry official'], ['movie review', 'debut movie', 'first movie', 'dernier combat', 'latest battle', 'post apocalyptic movie', 'movie', 'science fiction', 'action', 'adventure', 'french', 'gross budget', 'dark white', 'quiet movie'], ['jacques becker', 'french cinema', 'international cinema', 'claude dauphin', 'jean luc', 'crime drama', 'melodrama'], ['hans story producer', 'musical album type', 'main theme', 'song', 'interstellar', 'christopher author', 'theme song', 'place', 'extended'], ['long engagement scene', 'long engagement battle', 'jean pierre'], ['angela yee', 'angela yee mane', 'angela yee lip service', 'envy mane', 'envy mane wife', 'envy', 'breakfast club power', 'lip service', 'level magazine', 'level magazine angela yee', 'tempest harris', 'daytime tea time'], ['godfather', 'michael', 'sonny', 'tom', 'kay', 'connie', 'carlo', 'johnny', 'paulie', 'neri', 'moe', 'america', 'us', 'new', 'york', 'five', 'mario', 'al', 'james', 'richard', 'castellano', 'robert'], ['ariel twin', 'ariel ursula', 'ariel', 'ursula', 'little mermaid', 'belle', 'beauty beast', 'elsa anna', 'elsa', 'anna', 'frozen', 'maleficent', 'totally', 'mermaid'], ['thinning', 'peyton list', 'red new movie', 'legendary digital', 'matthew', 'great', 'stacey run', 'thriller', 'rebellion', 'survival', 'post apocalyptic'], ['david bowie', 'trailer', 'movie', 'park circus', 'man fell earth'], ['queen slim', 'turner smith', 'queen slim trailer', 'queen slim official trailer', 'queen slim first trailer'], ['spotlight', 'movie review', 'boston globe', 'catholic church', 'catholicism art period movement', 'michael', 'john slattery', 'stanley', 'scene', 'fat movie', 'clip', 'teaser', 'trailer', 'movie', 'review media genre'], ['making jurassic park slow income jurassic park', 'income jurassic park', 'jurassic park'], ['paleface movie', 'vintage movie trailer', 'jane russell movie actor', 'bob hope celebrity'], ['new country', 'trailer promotion', 'action', 'adventure'], ['infernal', 'infernal clip', 'infernal trailer', 'infernal part', 'tony leung', 'andy', 'alan', 'envelope', 'foreign', 'chinese', 'drama', 'thriller', 'ellen chang', 'lorraine ho', 'theater', 'chen fly yan', 'inspector kin ming', 'hon sam', 'movie clip'], ['entertainment', 'news', 'razor pop'], ['ariana musical artist', 'latest', 'christmas', 'song', 'fat', 'musical group', 'album', 'new', 'hide', 'merry', 'merry christmas', 'truly musical album', 'latest day', 'holiday', 'country', 'night', 'put hearts', 'baby', 'country musical genre', 'carol', 'musician occupation', 'jingle', 'jingle composition', 'happy', 'eve', 'christmas eve'], ['ratter', 'thriller', 'fear', 'official', 'trailer', 'movie', 'clip', 'predicament', 'international'], ['wrath god', 'english', 'good traitor'], ['milestone', 'international war', 'nazi', 'annie hall', 'resistant', 'resistance', 'german', 'british', 'humanist', 'restoration', 'documentary', 'oscar nomination'], ['movie', 'drama', 'comedy', 'romance', 'action', 'quality high', 'movie movie'], ['game season episode', 'total war', 'game season episode trailer'], ['king crane', 'superman', 'neat man', 'superman mod', 'trevor', 'trevor becomes superman', 'trevor becomes neat hero', 'neat hero', 'neat mod', 'trevor becomes superman mod', 'becoming', 'becoming neat hero'], ['historical', 'civil war', 'america', 'american history', 'ugly', 'right', 'mystery', 'strange', 'top', 'list', 'history', 'science', 'unsolved', 'international', 'unexplained', 'ever', 'biggest', 'us history', 'historical unsolved', 'puzzling', 'american look', 'keystone', 'steam gun', 'technology', 'secret', 'top secret', 'civil war submarine', 'stonewall jackson', 'amazing'], ['iron', 'maiden', 'age', 'innocence', 'metal'], ['trailer', 'trailer promotion', 'official profession', 'official trailer', 'teaser trailer', 'theatrical'], ['fellowship ring', 'christopher lee', 'action adventure', 'action fi fantasy', 'fantasy', 'peter jackson', 'walsh', 'robert', 'ellen somers', 'betrayal', 'movie clip', 'wizard', 'grey wizard', 'white wizard', 'magic', 'power', 'battle', 'fight', 'tower'], ['oscar', 'best describe', 'oscar winner', 'school', 'official trailer', 'school award best describe'], ['lighthouse ending', 'lighthouse movie', 'lighthouse review', 'lighthouse robert', 'lighthouse', 'fear', 'movie', 'look mojo', 'top', 'list', 'lighthouse movie plan'], ['detour', 'detour movie', 'detour trailer', 'stephen', 'christopher smith', 'law student', 'mother', 'dying', 'revenge', 'step father', 'kill', 'fandango', 'official', 'trailer', 'new trailer', 'movie'], ['lady tramp', 'lady tramp trailer', 'lady tramp movie trailer', 'lady tramp official trailer', 'trailer', 'fandango', 'entertainment', 'plus lady tramp', 'animation', 'adventure', 'comedy', 'charlie bean', 'sam elliott'], ['sarah wayne', 'fear', 'official', 'trailer', 'movie', 'clip', 'predicament', 'international'], ['sam hall', 'movie review tell', 'obscure'], ['madman', 'anime', 'madman anime', 'interesting away award winning work', 'animation genre', 'trailer', 'studio production company'], ['amanda palmer', 'amanda palmer goes', 'australia', 'music video', 'bright', 'jim batt', 'good northern hotel', 'newcastle', 'overlook hotel'], ['drama', 'donald crisp', 'maureen', 'sara allgood', 'movie trailer', 'movie clip', 'movie preview', 'coming soon', 'vod', 'home video', 'making', 'teaser', 'interview'], ['sky', 'smartphone home'], ['bonnie clyde romeo juliet rap battle', 'romeo juliet bonnie clyde rap battle', 'rap battle romeo juliet bonnie clyde', 'rap battle bonnie clyde romeo juliet', 'romeo juliet rap battle', 'bonnie clyde rap battle', 'story rap romeo juliet', 'story rap bonnie clyde', 'romeo juliet bonnie clyde', 'bonnie clyde romeo juliet', 'grace rap', 'bonnie clyde', 'rap battle', 'story rap', 'romeo juliet'], ['rosemary baby', 'rosemary baby clip', 'rosemary baby trailer', 'rosemary baby part', 'farrow', 'patsy kelly', 'classic fear', 'psychological', 'william castle', 'apartment', 'movie clip'], ['comedy hanging rock', 'anne louise lambert', 'australian movie', 'peter weir', 'mystery'], ['home alone', 'home alone christmas reunion', 'christmas reunion', 'home alone best', 'christmas movie', 'home alone sorry scene', 'home alone new york', 'home alone kevin solo', 'home alone song christmas'], ['beautiful day neighborhood got factually true', 'beautiful day neighborhood movie', 'beautiful day neighborhood got true', 'mr true story beautiful day neighborhood', 'beautiful day neighborhood based right story', 'beautiful day neighborhood true', 'drama', 'look mojo', 'top', 'list'], ['nazi country', 'olympia movie', 'nazi propaganda', 'olympic'], ['opening', 'hide', 'movie'], ['movie clip', 'trailer', 'official', 'independent', 'movie festival', 'big sky', 'big sky movie', 'big sky clip', 'teen', 'mother', 'agoraphobia', 'gunman', 'fight', 'jorge michel', 'mirage'], ['animation', 'cinema'], ['iron', 'kim', 'lee'], ['ray disc movie distribution medium', 'review media genre', 'collection', 'update', 'linda movie actor', 'bill pullman movie actor', 'james mason movie actor', 'strange man movie', 'third man award winning work', 'criterion collection business operation', 'latest seduction movie', 'cute dog', 'dog', 'pekingese animal breed', 'puppy', 'carol reed movie director', 'peter berg movie director', 'crime fiction genre'], ['looper', 'terminator dark fate', 'dark fate', 'terminator dark fate ending', 'terminator dark fate plan', 'terminator dark fate meaning', 'terminator dark fate stop', 'terminator dark fate new', 'dark fate ending', 'dark fate plan', 'dark fate meaning', 'dark fate stop', 'dark fate new'], ['criterion collection', 'independent', 'foreign', 'cult', 'classic', 'movie', 'director', 'actor', 'actress', 'cinema', 'cinematography', 'movie buff', 'movie lover', 'war', 'eastern', 'battle', 'ascent'], ['lord', 'peter jackson', 'ian', 'orlando', 'bloom', 'movie', 'fat', 'clip', 'scene', 'new', 'high', 'quality', 'best', 'whole', 'story', 'two', 'final battle', 'latest battle', 'latest fight', 'final fight', 'siege', 'deep', 'deeping wall'], ['duck soup', 'duck soup clip', 'duck soup part', 'duck soup mirror scene', 'duck soup trailer', 'duck soup song', 'duck soup barbra', 'chico', 'political', 'deception', 'pinky', 'rufus firefly', 'movie clip'], ['trailer', 'cynthia', 'drew goddard', 'awful times el royale', 'awful times trailer'], ['angry max fury road movie', 'scene', 'movie movie', 'making'], ['reservoir dogs', 'reservoir dogs clip', 'reservoir dogs trailer', 'michael', 'steven wright', 'gangster', 'thriller', 'lawrence bender', 'appreciation', 'warehouse', 'movie clip'], ['foreign movie', 'trailer', 'oscar', 'school'], ['stagecoach', 'stagecoach trailer', 'stagecoach west', 'stagecoach festival', 'stagecoach west fat'], ['celebrity', 'jamie lee curtis', 'acting career', 'jamie lee curtis career', 'jamie lee curtis interview', 'jamie lee curtis halloween', 'jamie lee curtis michael', 'jamie lee curtis freaky friday', 'jamie lee curtis girl', 'jamie lee curtis trading', 'jamie lee', 'vanity right', 'freaky friday'], ['fatal attraction', 'fat hide', 'signal destroy'], ['rebel', 'without', 'cause', 'james', 'dean', 'natalie', 'wood', 'sal', 'jim', 'dennis', 'hopper', 'nicholas', 'ray'], ['bikini', 'pro', 'perfect', 'sexy', 'little', 'toned', 'lean', 'bigger', 'smaller', 'booty', 'arms', 'leg', 'workout', 'tummy', 'stomach', 'waist', 'help', 'lower', 'higher', 'fat', 'trainer', 'important', 'inner', 'gross', 'female', 'woman', 'bloating', 'concentration', 'unhappy', 'footage', 'true', 'death camp', 'ugly', 'holocaust'], ['yoga sport', 'art quotation subject', 'art art period movement', 'art movement', 'love quotation subject', 'movie media genre', 'movie producer profession', 'movie noir movie genre', 'movie festival movie screening venue', 'manic image'], ['julie en bateau movie', 'juliet'], ['trailer', 'adam pally', 'alex ross perry', 'jenny slate', 'aubrey plaza', 'alison', 'comedy', 'fandango', 'funny movie', 'funny'], ['gold', 'news', 'gold river', 'latest news'], ['best', 'youth', 'italian', 'boni', 'luigi', 'lo'], ['edgar allan poe', 'pit pendulum', 'christopher lee', 'gothic', 'tales', 'fireside', 'fear', 'inquisition', 'toledo', 'english', 'story'], ['year', 'pig', 'de', 'antonio', 'war', 'anti war'], ['paris texas', 'movie', 'cinema', 'western', 'best scene', 'monologue', 'harry dean'], ['happily ever'], ['movie clip', 'trailer', 'official', 'romance', 'drama', 'thea', 'matthew lewis', 'love', 'paraplegic', 'life death'], ['gotham city', 'extended universe', 'suicide squad', 'wonder woman', 'warner', 'warner media', 'movie warner', 'trailer', 'official trailer', 'teaser trailer', 'movie', 'movie trailer', 'coming soon', 'superhero', 'action', 'adventure', 'wong', 'mary elizabeth', 'cathy yan'], ['stupid', 'comedy', 'trailer', 'sequel', 'stupid trailer', 'red granite', 'stupid harry met lloyd', 'kathleen turner', 'south park', 'key peele'], ['rosario flores', 'geraldine', 'vega', 'spanish'], ['wave', 'amplitude', 'frequency', 'wave lesson kids', 'water wave lesson', 'sound wave lesson', 'grade'], ['jackson wang dawn us team wang pop', 'wang', 'official', 'jackson wang dawn us'], ['fellowship ring', 'peter jackson', 'movie trivia', 'adaptation', 'book movie'], ['oscar', 'best describe', 'oscar winner', 'school', 'official trailer', 'school award best describe'], ['west stop', 'street'], ['criterion', 'leonard cohen', 'julie christie', 'william', 'interview'], ['peking', 'opera', 'blues', 'lin', 'sally', 'hark'], ['sailor', 'romantic', 'river', 'romance', 'african queen', 'african queen movie', 'african queen movie trailer', 'african queen trailer', 'african queen official trailer', 'trailer', 'classic', 'fandango', 'humphrey bogart', 'katharine', 'adventure', 'drama'], ['insider', 'food insider', 'best best', 'pastrami', 'pastrami sandwich', 'meat', 'ham', 'eats', 'new york city', 'harry ida', 'david brisket house'], ['home alone', 'home alone movie clip', 'home alone lost new york', 'home alone peter accidentally unplugged fear clock', 'home alone peter unplugged fear clock', 'home alone family'], ['little miss sunshine', 'little miss sunshine trailer', 'little miss sunshine dance', 'little miss sunshine part', 'michael', 'dwayne', 'comedy', 'albert berger', 'suicide', 'success', 'depression', 'richard', 'david good', 'peter saraf', 'valerie', 'dining room'], ['hotel terminus', 'terminus', 'nazi', 'gestapo', 'jean moulin'], ['cinema', 'movie', 'brittany marathon', 'brittany marathon trailer', 'comedy movie'], ['amazing people', 'right crime', 'channel documentary', 'three documentary', 'true life', 'kill', 'three', 'documentary', 'fat documentary', 'documentary topic', 'texas massacre', 'serial killer documentary', 'serial killer', 'ed gein', 'ed gein documentary', 'mystery documentary', 'law documentary', 'gun control'], ['hack', 'mod', 'sonic hedgehog', 'sonic destiny', 'sonic movie', 'hedgehog movie', 'sonic movie trailer', 'sonic movie new'], ['debbie', 'harry', 'interview', 'scene'], ['shooting', 'rifle', 'rimfire', 'winchester', 'gun range', 'range', 'shooter', 'pistol'], ['gary cooper movie actor', 'ann movie actor', 'henry movie director'], ['british movie institute', 'awful beautiful', 'kirk douglas', 'lana turner', 'movie'], ['men automobiles scene', 'clive owen', 'clare hope', 'alfonso', 'machine gun', 'action adventure', 'action fi fantasy', 'british', 'fi fantasy', 'thomas bliss', 'smith', 'marc abraham', 'hilary shor', 'movie clip'], ['without', 'acoustic', 'hero', 'music', 'infinity', 'belong together', 'instrumental', 'official', 'fantasy', 'karaoke', 'remix'], ['stranger', 'official', 'trailer'], ['battleship', 'classic', 'fat movie', 'fat movie english'], ['movie clip', 'trailer', 'official', 'independent', 'movie festival', 'winter sleep', 'winter sleep movie', 'winter sleep trailer', 'hotel', 'actor', 'divorce', 'storm', 'snow', 'winter', 'winter coming'], ['gaelic storm move climb tree green', 'white orange'], ['movie', 'trailer', 'clip', 'cult', 'cinema', 'doc'], ['chance rapper', 'hot shower'], ['meat eater', 'fishing', 'fly fishing', 'hunting', 'das boat', 'boat'], ['movie clip', 'trailer', 'official', 'independent', 'movie festival', 'zero motivation', 'zero motivation movie', 'zero motivation trailer', 'comedy', 'drama', 'israeli', 'mash orange new dark', 'platoon', 'military'], ['making', 'george roy hill', 'classic', 'western', 'movie star', 'footage', 'rare', 'wild west', 'history documentary', 'western fat length', 'butch knife fight'], ['jerk', 'jerk clip', 'jerk dance', 'jerk song', 'steve martin', 'carl reiner', 'remote control', 'comedy', 'screwball', 'slapstick', 'david v picker', 'peter scott', 'william e', 'abandonment', 'doctrine', 'compromise', 'movie clip'], ['trailer', 'movie', 'best', 'best upcoming', 'april', 'best movie', 'new', 'official', 'upcoming', 'trailer compilation', 'compilation', 'movie trailer', 'x men', 'dark phoenix', 'sonic hedgehog', 'racing angry', 'men dark'], ['enter girl dragon teaser', 'india first martial movie', 'ram new movie', 'latest telugu', 'new movie', 'enter girl dragon trailer', 'new movie teaser', 'bruce lee movie', 'enter girl dragon movie', 'enter girl dragon telugu movie', 'fat length telugu', 'enter girl dragon movie teaser', 'thug life'], ['international war two', 'berlin', 'downfall', 'movie', 'surrender', 'climax', 'battle berlin', 'soviet union'], ['definite', 'definite movie', 'definite trailer', 'kristen stewart', 'laura dern', 'jared harris', 'drama', 'little town', 'america', 'fandango'], ['batman', 'dark knight', 'christian bale', 'joker', 'bane', 'christopher', 'tribute', 'trailer', 'dark knight trilogy'], ['battle rap', 'smack', 'champion', 'top', 'tier', 'spiff', 'haze', 'brown', 'best', 'merch', 'trapper'], ['love', 'american', 'york', 'pall mall', 'international war', 'old', 'united army military'], ['independent movie', 'movie hustle', 'days heaven', 'terrence', 'badlands'], ['baker wife', 'movie forum', 'movie forum repertory'], ['scorpio rising', 'scorpio ascendant', 'scorpio', 'astrology', 'natal chart', 'birth chart', 'finesse', 'sexual energy', 'sex', 'african spirituality', 'self love', 'self knowledge']]\n"
     ]
    }
   ],
   "source": [
    "# Splitting data into training and testing sets\n",
    "\n",
    "link='shuffled_preprocessed_data.csv'\n",
    "\n",
    "input1 = open(link, 'r')\n",
    "\n",
    "lines = itertools.islice(input1,1,None)\n",
    "reader = csv.reader(lines)\n",
    "\n",
    "full_len = len(list(reader))\n",
    "thres = int((full_len*95)/100)\n",
    "print(thres)\n",
    "\n",
    "input1.close()\n",
    "              \n",
    "with open(link, newline='', encoding='utf8') as f:\n",
    "    cnt=0\n",
    "    X_arr=[]\n",
    "    X_test_arr=[]\n",
    "    \n",
    "    y_train_text=[]\n",
    "    Y_test=[]\n",
    "    \n",
    "    lines = itertools.islice(f,1,None)\n",
    "    reader = csv.reader(lines)\n",
    "    \n",
    "    for row in reader:\n",
    "        if(cnt<thres):\n",
    "            X_arr.append(row[1]+', '+row[2])\n",
    "            list1=[]\n",
    "            for i in range(5,len(row)):\n",
    "                list1.append(row[i])\n",
    "                \n",
    "            y_train_text.append(list1)\n",
    "        else:\n",
    "            X_test_arr.append(row[1]+', '+row[2])\n",
    "            list1=[]\n",
    "            for i in range(5,len(row)):\n",
    "                list1.append(row[i])\n",
    "            Y_test.append(list1)\n",
    "        \n",
    "        cnt=cnt+1\n",
    "        \n",
    "    X_train = np.array(X_arr)\n",
    "    X_test = np.array(X_test_arr)\n",
    "    print(len(Y_test))\n",
    "    print(Y_test)"
   ]
  },
  {
   "cell_type": "code",
   "execution_count": 5,
   "metadata": {},
   "outputs": [],
   "source": [
    "mlb = MultiLabelBinarizer()\n",
    "Y = mlb.fit_transform(y_train_text)"
   ]
  },
  {
   "cell_type": "code",
   "execution_count": 35,
   "metadata": {},
   "outputs": [
    {
     "name": "stdout",
     "output_type": "stream",
     "text": [
      "[[0 0 0 ... 0 0 0]\n",
      " [0 0 0 ... 0 0 0]\n",
      " [0 0 0 ... 0 0 0]\n",
      " ...\n",
      " [0 0 0 ... 0 0 0]\n",
      " [0 0 0 ... 0 0 0]\n",
      " [0 0 0 ... 0 0 0]]\n"
     ]
    }
   ],
   "source": [
    "print(Y)"
   ]
  },
  {
   "cell_type": "code",
   "execution_count": 6,
   "metadata": {},
   "outputs": [],
   "source": [
    "classifier = Pipeline([\n",
    "    ('vectorizer', CountVectorizer()),\n",
    "    ('tfidf', TfidfTransformer()),\n",
    "    ('clf', OneVsRestClassifier(LinearSVC()))])"
   ]
  },
  {
   "cell_type": "code",
   "execution_count": 7,
   "metadata": {
    "scrolled": true
   },
   "outputs": [
    {
     "data": {
      "text/plain": [
       "Pipeline(memory=None,\n",
       "         steps=[('vectorizer',\n",
       "                 CountVectorizer(analyzer='word', binary=False,\n",
       "                                 decode_error='strict',\n",
       "                                 dtype=<class 'numpy.int64'>, encoding='utf-8',\n",
       "                                 input='content', lowercase=True, max_df=1.0,\n",
       "                                 max_features=None, min_df=1,\n",
       "                                 ngram_range=(1, 1), preprocessor=None,\n",
       "                                 stop_words=None, strip_accents=None,\n",
       "                                 token_pattern='(?u)\\\\b\\\\w\\\\w+\\\\b',\n",
       "                                 tokenizer=None, vocabulary=None)),\n",
       "                ('tfidf',\n",
       "                 TfidfTransformer(norm='l2', smooth_idf=True,\n",
       "                                  sublinear_tf=False, use_idf=True)),\n",
       "                ('clf',\n",
       "                 OneVsRestClassifier(estimator=LinearSVC(C=1.0,\n",
       "                                                         class_weight=None,\n",
       "                                                         dual=True,\n",
       "                                                         fit_intercept=True,\n",
       "                                                         intercept_scaling=1,\n",
       "                                                         loss='squared_hinge',\n",
       "                                                         max_iter=1000,\n",
       "                                                         multi_class='ovr',\n",
       "                                                         penalty='l2',\n",
       "                                                         random_state=None,\n",
       "                                                         tol=0.0001,\n",
       "                                                         verbose=0),\n",
       "                                     n_jobs=None))],\n",
       "         verbose=False)"
      ]
     },
     "execution_count": 7,
     "metadata": {},
     "output_type": "execute_result"
    }
   ],
   "source": [
    "classifier.fit(X_train, Y)"
   ]
  },
  {
   "cell_type": "code",
   "execution_count": 37,
   "metadata": {},
   "outputs": [
    {
     "name": "stdout",
     "output_type": "stream",
     "text": [
      "['sonic the hedgehog new official trailer paramount, sonic the hedgehog is speeding to for a big hide adventure for the whole family look the new trailer now and in february based on the international blockbuster franchise from sonic the hedgehog the story of the international s hedgehog as he his new home on earth in this live action adventure comedy sonic and his new best friend tom james team up to defend the planet from the ugly genius jim and his for international domination the family good movie also sumpter and ben as the inform of sonic corporation a major international producer and distributor of entertainment is a unit of via home to premier international media that make compelling television motion short make inform consumer social media and other entertainment inform for in more than connect with paramount official place'\n",
      " 'mile end delicatessen, another for this episode we head to mile stop delicatessen to sample their interpretation of style jewish cuisine then noah and cohen business partner max chef sam and the generalissimo of their michael move to the les for a tour of new york s good jewish food the first end is russ for caviar and a little herring after that it s off to sammy s steak house for dancing and a massive amount of vodka look more of here to vice here out our fat video daily editorial and more vice on vice on twitter our'\n",
      " 'gary cooper garden of evil western full movie classic feature film english watchfree, gary cooper garden of ugly fat western movie fat length cowboy movie english a trio of american in rural are by a beautiful woman to rescue her husband trapped in a cave in apache territory director henry frank screenplay fred story gary cooper susan hayward richard three are headed by ship around the cape to the california gold when they are put ashore for several in a sleepy little mexican village while there they are the job of following a lady deep into the indian of to rescue the ladies husband trapped by a cave in at their gold mine for the job they are two thousand each while each their have for getting the lady and or the gold mine if they can survive to have it copyright written by l country english date december west garden of ugly is a western movie about three somewhat disreputable century of fortune by gary cooper richard and mitchell who are hired by a woman by susan hayward to rescue her husband the movie was directed by henry all of the by us are legally licensed we have acquired the at least for specific from the by contract if you have please send an to de'\n",
      " ...\n",
      " 'gone with the wind trailer, gone with the wind trailer victor clark gable hattie leslie howard olivia de thomas mitchell inform from home southern belle with the devastation of the civil war and reconstruction this all time classic won school best describe movie gone with the wind movie gone with the wind trailer gone with the wind victor fleming clark gable hattie leslie howard olivia de thomas mitchell leigh'\n",
      " 'raise the red lantern full movie with english subtitle on, raise the red lantern fat movie on the red lantern summary the movie is put in china during the era before the chinese civil war nineteen year old by gong li whose father recently and left the family bankrupt into the wealthy chen family becoming the fourth wife or rather the third concubine or as she is to the fourth mistress of the household at the palatial abode she is at first love royalty sensuous foot and brightly lit red as well as a visit from her husband master chen ma the master of the house whose face is never clearly shown soon however that not all the in the household receive the same luxurious treatment in fact the master on a daily basis the concubine he will use the night with whomever he her lit the foot massage her choice of menu at mealtime and the most attention and respect from the pitted in constant competition against each other the three are continually vying for their husband s attention and da hong long hong long hong long greek hong long hong long hong long hong long look hong long hong long raise the red raise the red lantern english raise the red lantern raise the red lantern the red the red lantern the red lantern the red lantern the red lantern the red lantern look the red lantern the red lantern the red lantern analysis the red lantern ballet the red lantern the red lantern book the red lantern book the red lantern book the red lantern book the red lantern book the red lantern book the red lantern book the red lantern book the red lantern character the red lantern character the red lantern cinematography the red lantern color the red lantern important the red lantern important the red lantern detailed the red lantern inform the red lantern the red lantern the red lantern the red lantern the red lantern the red lantern the red lantern the red lantern the red lantern place the red lantern review'\n",
      " 'annual tony the color purple cynthia danielle heather, the color purple tony cynthia danielle heather broadway']\n"
     ]
    }
   ],
   "source": [
    "print(X_train)"
   ]
  },
  {
   "cell_type": "code",
   "execution_count": 36,
   "metadata": {
    "scrolled": true
   },
   "outputs": [
    {
     "name": "stdout",
     "output_type": "stream",
     "text": [
      "[[0 0 0 ... 0 0 0]\n",
      " [0 0 0 ... 0 0 0]\n",
      " [0 0 0 ... 0 0 0]\n",
      " ...\n",
      " [0 0 0 ... 0 0 0]\n",
      " [0 0 0 ... 0 0 0]\n",
      " [0 0 0 ... 0 0 0]]\n"
     ]
    }
   ],
   "source": [
    "predicted = classifier.predict(X_test)\n",
    "print(predicted)"
   ]
  },
  {
   "cell_type": "code",
   "execution_count": null,
   "metadata": {},
   "outputs": [],
   "source": [
    "text_labels = mlb.inverse_transform(predicted)"
   ]
  },
  {
   "cell_type": "code",
   "execution_count": null,
   "metadata": {
    "scrolled": true
   },
   "outputs": [],
   "source": [
    "# Storing all the predicted labels\n",
    "\n",
    "test_data=[]\n",
    "all_predicted_labels=[]\n",
    "#temp_list=[]\n",
    "\n",
    "for actual_text, predict_labels in zip(Y_test, text_labels):\n",
    "    \n",
    "    all_predicted_labels.append(predict_labels)\n",
    "    \n",
    "    if predict_labels:\n",
    "        #print(predict_labels)\n",
    "        \n",
    "        test_data.append(actual_text)\n",
    "\n",
    "#print(len(test_data))\n",
    "print(all_predicted_labels)"
   ]
  },
  {
   "cell_type": "code",
   "execution_count": null,
   "metadata": {},
   "outputs": [],
   "source": [
    "#print(test_data)"
   ]
  },
  {
   "cell_type": "code",
   "execution_count": null,
   "metadata": {},
   "outputs": [],
   "source": [
    "Y_new = mlb.fit_transform(Y_test)\n",
    "#print(Y_new)\n",
    "#Y_new = mlb.fit_transform(test_data)"
   ]
  },
  {
   "cell_type": "code",
   "execution_count": 44,
   "metadata": {},
   "outputs": [
    {
     "data": {
      "text/plain": [
       "(5678, 19368)"
      ]
     },
     "execution_count": 44,
     "metadata": {},
     "output_type": "execute_result"
    }
   ],
   "source": [
    "Y.shape"
   ]
  },
  {
   "cell_type": "code",
   "execution_count": 46,
   "metadata": {},
   "outputs": [
    {
     "data": {
      "text/plain": [
       "(299, 19368)"
      ]
     },
     "execution_count": 46,
     "metadata": {},
     "output_type": "execute_result"
    }
   ],
   "source": [
    "predicted.shape"
   ]
  },
  {
   "cell_type": "code",
   "execution_count": 30,
   "metadata": {},
   "outputs": [],
   "source": [
    "read_link='shuffled_preprocessed_data.csv'\n",
    "\n",
    "# Header\n",
    "list1=['Id', 'Title', 'Description', 'LikeCount', 'DislikeCount', 'Predicted Tags (comma delimited string)']\n",
    "tot_list=[]\n",
    "tot_list.append(list1)\n",
    "\n",
    "with open(read_link, newline='', encoding='utf8') as f:\n",
    "    lines = itertools.islice(f,1+thres,None)\n",
    "    reader = csv.reader(lines)\n",
    "    \n",
    "    row_num=0\n",
    "    for row in reader:\n",
    "        #print(row)\n",
    "        list2=[]\n",
    "        for i in range(0,5):\n",
    "            list2.append(row[i])\n",
    "        list2.extend(all_predicted_labels[row_num])\n",
    "        #print(list2)\n",
    "        tot_list.append(list2)\n",
    "        row_num+=1\n",
    "    #print(tot_list)\n",
    "f.close()"
   ]
  },
  {
   "cell_type": "code",
   "execution_count": 31,
   "metadata": {},
   "outputs": [],
   "source": [
    "# Writing to file the predicted labels\n",
    "\n",
    "write_link='predicted_data.csv'\n",
    "\n",
    "with open(write_link, 'w', newline='') as f:\n",
    "    writer = csv.writer(f)\n",
    "    writer.writerows(tot_list)"
   ]
  },
  {
   "cell_type": "code",
   "execution_count": 34,
   "metadata": {},
   "outputs": [
    {
     "name": "stdout",
     "output_type": "stream",
     "text": [
      "[('cinema', 'fear movie', 'movie', 'official', 'ready official trailer', 'samara weaving', 'trailer'), (), (), ('family',), (), ('movie clip', 'trailer'), (), (), ('drama', 'movie clip', 'official', 'thriller', 'trailer'), ('movie clip', 'official', 'trailer'), (), (), (), ('angela yee', 'breakfast club', 'celebrity news', 'envy', 'interview', 'radio', 'video'), ('donald glover', 'james earl jones', 'john oliver', 'lion king', 'michael key', 'official trailer', 'trailer'), ('henry', 'killer', 'movie', 'portrait', 'serial'), (), (), (), ('farrow', 'rosemary baby'), ('comedy', 'irving', 'movie clip', 'racing times high', 'slow night'), ('actor', 'actress', 'classic', 'cult', 'director', 'foreign', 'independent', 'movie buff', 'movie lover'), ('astrology', 'scorpio'), ('bounty hunter', 'classic western', 'el el malo el', 'eli wallach', 'fat scene', 'movie ending', 'movie scene', 'right awful ugly', 'spaghetti western'), (), ('movie clip', 'movie scene', 'platoon ambush', 'platoon charlie sheen', 'platoon clip', 'platoon death', 'platoon death scene', 'platoon ending', 'platoon fat movie', 'platoon forest', 'platoon movie', 'platoon movie clip', 'platoon movie scene', 'platoon oliver stone', 'platoon opening', 'platoon scene', 'platoon tom', 'platoon village'), (), ('documentary', 'movie', 'nazi', 'propaganda'), ('portuguese', 'red psalm'), (), ('official',), (), ('warner',), (), ('movie',), ('jonathan king', 'michael sugar', 'spotlight', 'spotlight jennifer', 'spotlight room run', 'spotlight trailer'), ('movie clip',), (), (), (), ('local', 'trailer'), (), ('drama', 'fandango', 'movie trailer', 'romance', 'trailer'), ('judy garland', 'movie clip'), ('classic', 'frank capra', 'james stewart', 'movie clip', 'mr smith goes washington', 'political', 'politics'), (), ('official', 'trailer'), (), ('trailer',), ('fear', 'rocky'), ('movie',), ('george romero', 'night living stupid'), (), (), (), ('cary grant', 'katharine'), ('rocky', 'rocky balboa', 'rocky balboa inspirational speech', 'rocky balboa speech', 'rocky fear describe tell', 'rocky mountain high john', 'rocky road', 'rocky theme', 'rocky theme song', 'rocky top'), (), (), ('movie clip',), ('clip', 'comedian', 'comedic', 'comedy', 'funny', 'jimmy'), ('claire', 'denis', 'documentary', 'european', 'fate', 'fiction', 'goddard', 'gradate', 'movie', 'narration', 'perspective', 'school'), (), (), ('trailer',), (), ('destroyer',), (), (), ('humphrey bogart',), (), (), (), (), (), ('african american', 'based true life', 'drama', 'edward', 'freddie', 'glory', 'glory clip', 'glory glory man united', 'glory love', 'john finn', 'military action adventure', 'military war', 'morgan freeman', 'movie clip', 'pieter jan', 'washington'), ('motherless', 'movie'), (), ('joker',), ('marathi', 'marathi movie', 'ye ye paisa fat movie', 'ye ye paisa marathi movie', 'ye ye paisa trailer'), ('andy bean', 'ben', 'beverly', 'bill', 'chapter', 'chapter two', 'eddie', 'fear', 'jack dylan grazer', 'jeremy ray taylor', 'mike', 'new line', 'official trailer', 'stanley', 'stephen king', 'warner'), (), (), ('african american', 'drama', 'independent', 'monty ross', 'movie clip', 'social inform', 'spike lee', 'true thing', 'true thing clip', 'true thing part', 'true thing trailer'), ('fear',), (), (), (), ('movie',), (), ('best actor', 'clip', 'fat movie', 'glenn end', 'jeremy', 'movie', 'nicholas', 'reversal fortune', 'reversal fortune clip', 'reversal fortune glenn end', 'reversal fortune inside case', 'reversal fortune jeremy', 'reversal fortune movie', 'reversal fortune ron silver', 'reversal fortune scene', 'ron silver', 'scene'), (), ('trailer',), ('dennis',), ('jet li',), (), (), ('trailer',), (), ('aileen', 'brutal', 'crime', 'female', 'killer', 'serial'), (), ('donald glover', 'james earl jones', 'john oliver', 'lion king', 'michael key', 'official trailer', 'trailer'), ('movie',), ('fox searchlight',), ('charles', 'cliff booth', 'hollywood', 'leo brad', 'official trailer', 'rick dalton', 'trailer', 'upon time', 'upon time hollywood', 'upon time hollywood official trailer', 'upon time hollywood trailer'), ('movie',), ('bob gale', 'christopher lloyd', 'emmett brown', 'help future', 'help future part'), (), ('drama',), ('based true life', 'boxing', 'drama', 'new york', 'period century', 'peter savage', 'raging bull', 'raging bull fat movie', 'raging bull scene', 'raging bull trailer', 'robert de'), (), ('marathi', 'marathi movie', 'ye ye paisa trailer'), ('trailer',), (), (), ('western',), (), ('christopher lee', 'edgar allan poe'), ('fat lifetime', 'lifetime', 'lifetime fat episode', 'little', 'reality series'), ('trailer',), ('movie clip', 'official', 'trailer'), (), (), ('private idaho', 'river phoenix'), ('texas massacre',), ('crouching tiger hidden dragon', 'crouching tiger hidden dragon ending', 'crouching tiger hidden dragon fat movie', 'crouching tiger hidden dragon fat movie english', 'crouching tiger hidden dragon fight', 'crouching tiger hidden dragon fight scene', 'crouching tiger hidden dragon movie', 'crouching tiger hidden dragon part', 'crouching tiger hidden dragon trailer'), (), ('music',), (), (), ('christine', 'fox searchlight', 'fox searchlight movie', 'rabbit', 'rebel wilson', 'roman griffin', 'stephen merchant'), (), (), (), ('news', 'nightly news'), ('music', 'official'), ('jimmy',), ('bowling columbine', 'bowling columbine movie', 'charles bishop', 'charlie', 'documentary', 'kathleen glynn', 'michael donovan', 'michael moore', 'narrator', 'wolfram'), ('fear',), ('collateral', 'collateral clip', 'collateral club scene', 'collateral hurt', 'collateral trailer', 'jamie', 'max', 'michael', 'michael mann', 'michael waxman', 'movie clip', 'thriller', 'tom cruise', 'vincent'), ('oscar', 'school'), ('official',), ('comedy', 'ethan', 'holly hunter', 'raising arizona', 'raising arizona fat movie', 'raising arizona theme', 'raising arizona trailer'), (), (), ('night maud', 'trailer'), ('trailer',), ('indiana jones',), ('movie',), ('dogs', 'lady tramp'), (), ('big', 'charlie', 'city', 'claim', 'credit', 'degree', 'donate', 'free', 'grime', 'hip hop', 'hosting', 'insurance', 'link', 'mortgage', 'music', 'rap', 'sloth', 'spiff', 'tim', 'urban', 'video'), (), ('adelaide', 'angry max', 'anniversary', 'australia', 'classic', 'deliverance', 'masterpiece', 'movie forum', 'outback', 'quite hollywood', 'restoration', 'straw dogs', 'trailer', 'wake fear', 'wake fear movie'), (), (), ('fat movie', 'movie clip'), (), (), (), ('documentary',), (), ('trailer',), ('movie clip', 'official', 'trailer'), (), ('persona',), ('clark gable', 'classic', 'classic romantic', 'frank capra', 'harry', 'movie clip', 'one night clip', 'one night ending', 'one night part', 'romantic', 'screwball'), (), (), ('trailer',), ('sergeant york',), ('movie clip', 'official', 'trailer'), (), (), ('drama', 'movie clip', 'official', 'trailer'), ('bicycle', 'de', 'italian', 'movie', 'thief', 'trailer'), (), ('cry factory', 'movie', 'trailer'), (), ('ending', 'true stuff'), (), ('action movie genre', 'coming soon', 'ed harris', 'lewis pullman', 'maverick', 'miles teller', 'new movie', 'new trailer', 'official trailer', 'paramount', 'tom cruise', 'top gun', 'top gun maverick', 'top gun remake', 'top gun sequel', 'trailer'), ('exorcist',), (), (), ('jacques', 'trailer'), ('theme',), (), (), ('al', 'america', 'carlo', 'castellano', 'connie', 'five', 'godfather', 'james', 'johnny', 'kay', 'mario', 'michael', 'neri', 'new', 'paulie', 'richard', 'robert', 'sonny', 'tom', 'us', 'york'), ('ariel',), ('trailer',), ('nicolas',), ('queen slim', 'queen slim official trailer', 'queen slim trailer', 'turner smith'), ('spotlight',), ('jurassic international', 'jurassic park'), ('trailer',), (), ('alan', 'andy', 'betrayal', 'chinese', 'deception', 'drama', 'ellen chang', 'foreign', 'infernal', 'infernal clip', 'infernal part', 'infernal trailer', 'lorraine ho', 'movie clip', 'thriller', 'tony leung'), (), ('christmas',), ('international', 'movie', 'official', 'thriller', 'trailer'), (), (), (), (), (), (), (), (), ('billy boyd', 'elijah wood', 'fellowship ring', 'movie clip'), ('oscar',), ('ending', 'lighthouse', 'movie'), ('action', 'movie clip', 'trailer'), ('adventure', 'entertainment', 'fandango', 'trailer'), ('fear', 'movie', 'trailer'), (), ('animation genre', 'anime', 'interesting away award winning work', 'madman', 'madman anime', 'studio production company', 'trailer'), (), (), ('christmas',), (), ('apartment', 'classic fear', 'farrow', 'movie clip', 'psychological', 'rosemary baby', 'rosemary baby clip', 'rosemary baby part', 'rosemary baby theme', 'rosemary baby trailer', 'rosemary woodhouse', 'william castle'), (), ('christmas movie', 'christmas reunion', 'home alone', 'home alone best', 'home alone christmas reunion'), ('drama', 'list', 'look mojo', 'top'), ('olympia',), ('help future', 'movie'), ('big sky', 'big sky movie', 'movie clip', 'thriller'), ('movie',), (), (), ('terminator', 'trailer'), ('criterion collection', 'independent'), (), ('duck soup', 'duck soup trailer', 'margaret', 'movie clip', 'political'), ('trailer',), ('angry max',), ('michael', 'movie clip', 'reservoir dogs'), ('foreign movie', 'oscar', 'school', 'trailer'), ('stagecoach', 'stagecoach festival', 'stagecoach trailer', 'stagecoach west', 'stagecoach west fat'), (), ('fat hide', 'fatal attraction'), (), (), (), (), ('movie clip', 'official', 'trailer'), ('river',), (), ('edgar allan poe',), ('anti war', 'antonio', 'de', 'pig', 'war', 'year'), ('best scene', 'cinema', 'harry dean', 'monologue', 'movie', 'paris texas', 'western'), (), ('movie clip', 'official', 'trailer'), ('warner',), (), (), (), ('jackson', 'jackson wang', 'official', 'pop', 'team', 'wang'), (), ('best describe', 'official trailer', 'oscar', 'oscar winner', 'school', 'school award best describe'), (), (), ('trailer',), ('drama', 'fandango', 'trailer'), ('food insider', 'insider'), (), ('comedy', 'communication', 'jonathan', 'little miss sunshine', 'michael', 'peter saraf', 'valerie'), (), ('brittany marathon', 'comedy', 'marathon', 'movie', 'trailer'), ('fat documentary',), ('sonic', 'sonic hedgehog'), (), (), (), ('movie',), ('action adventure', 'action fi fantasy', 'alfonso', 'clive owen', 'fi fantasy', 'juan gabriel', 'marc abraham', 'movie clip', 'thomas bliss'), ('christmas',), ('trailer',), (), ('drama', 'movie', 'official', 'trailer'), (), ('documentary',), (), (), (), (), ('carl reiner', 'cat juggler', 'comedy', 'david v picker', 'engineer fred', 'jerk', 'jerk clip', 'jerk dance', 'jerk song', 'movie clip', 'peter scott', 'screwball', 'slapstick', 'steve martin', 'william e'), ('best', 'compilation', 'dark phoenix', 'movie', 'movie trailer', 'new', 'trailer compilation', 'upcoming', 'x men'), ('bruce lee movie', 'enter girl dragon movie', 'enter girl dragon movie teaser', 'enter girl dragon teaser', 'enter girl dragon telugu movie', 'enter girl dragon trailer', 'fat length telugu', 'india first martial movie', 'latest telugu', 'new movie', 'new movie teaser', 'ram new movie', 'thug life'), (), ('drama', 'movie clip', 'official', 'trailer'), ('batman', 'dark', 'knight'), (), ('medal honor', 'sergeant york'), (), (), ('astrology', 'scorpio')]\n"
     ]
    }
   ],
   "source": [
    "print(text_labels)"
   ]
  },
  {
   "cell_type": "code",
   "execution_count": 57,
   "metadata": {
    "scrolled": true
   },
   "outputs": [
    {
     "name": "stdout",
     "output_type": "stream",
     "text": [
      "1.0\n",
      "0.125\n",
      "0.15384615384615385\n",
      "0.5333333333333333\n",
      "0.4615384615384615\n",
      "0.7000000000000001\n",
      "0.923076923076923\n",
      "0.28571428571428575\n",
      "0.9090909090909091\n",
      "0.5142857142857142\n",
      "0.5\n",
      "0.17391304347826086\n",
      "1.0\n",
      "1.0\n",
      "1.0\n",
      "0.15384615384615385\n",
      "0.10526315789473684\n",
      "0.7499999999999999\n",
      "0.22222222222222224\n",
      "0.5555555555555556\n",
      "0.2666666666666667\n",
      "0.4444444444444444\n",
      "0.125\n",
      "0.6666666666666666\n",
      "0.2857142857142857\n",
      "1.0\n",
      "0.13333333333333333\n",
      "0.631578947368421\n",
      "0.761904761904762\n",
      "0.25\n",
      "0.8125\n",
      "0.3076923076923077\n",
      "0.13333333333333333\n",
      "0.8333333333333333\n",
      "0.9696969696969697\n",
      "0.846153846153846\n",
      "0.13333333333333333\n",
      "1.0\n",
      "0.2857142857142857\n",
      "0.5\n",
      "0.125\n",
      "0.19999999999999998\n",
      "1.0\n",
      "0.923076923076923\n",
      "0.2857142857142857\n",
      "0.09523809523809523\n",
      "1.0\n",
      "0.5263157894736842\n",
      "0.8\n",
      "0.30769230769230765\n",
      "0.15384615384615385\n",
      "0.6666666666666666\n",
      "0.5000000000000001\n",
      "0.14285714285714288\n",
      "0.5\n",
      "1.0\n",
      "1.0\n",
      "0.16666666666666669\n",
      "0.2222222222222222\n",
      "0.8571428571428572\n",
      "0.07142857142857142\n",
      "0.7999999999999999\n",
      "0.13333333333333333\n",
      "0.7000000000000001\n",
      "0.6666666666666666\n",
      "0.18181818181818182\n",
      "0.08695652173913045\n",
      "0.3333333333333333\n",
      "0.8936170212765957\n",
      "1.0\n",
      "0.6666666666666666\n",
      "0.039999999999999994\n",
      "0.13333333333333333\n",
      "0.3\n",
      "0.10526315789473684\n",
      "0.8333333333333333\n",
      "0.33333333333333337\n",
      "0.35294117647058826\n",
      "0.8\n",
      "0.8571428571428571\n",
      "0.6666666666666666\n",
      "1.0\n",
      "0.9767441860465117\n",
      "0.13333333333333333\n",
      "0.888888888888889\n",
      "0.125\n",
      "0.4\n",
      "0.7999999999999999\n",
      "0.07407407407407407\n",
      "0.7142857142857143\n",
      "0.17391304347826086\n",
      "0.2857142857142857\n",
      "0.28571428571428575\n",
      "0.10526315789473684\n",
      "0.47058823529411764\n",
      "0.5454545454545454\n",
      "1.0\n",
      "0.8695652173913043\n",
      "0.7142857142857143\n",
      "0.5714285714285715\n",
      "0.4\n",
      "0.31578947368421056\n",
      "0.21052631578947367\n",
      "0.4444444444444444\n",
      "0.33333333333333337\n",
      "0.42857142857142855\n",
      "1.0\n",
      "1.0\n",
      "0.8\n",
      "0.15384615384615383\n",
      "0.16666666666666669\n",
      "1.0\n",
      "1.0\n",
      "0.4615384615384615\n",
      "0.1\n",
      "0.4\n",
      "1.0\n",
      "0.3157894736842105\n",
      "0.3076923076923077\n",
      "0.43478260869565216\n",
      "0.4000000000000001\n",
      "0.10526315789473684\n",
      "0.2\n",
      "0.33333333333333337\n",
      "0.6956521739130435\n",
      "0.5\n",
      "0.2105263157894737\n",
      "0.8125\n",
      "0.6923076923076924\n",
      "1.0\n",
      "0.14285714285714288\n",
      "0.16666666666666666\n",
      "0.2857142857142857\n",
      "133\n",
      "[  0   3   5   8   9  13  14  15  20  21  22  23  25  27  28  30  32  35\n",
      "  40  42  43  44  46  49  55  56  59  60  61  66  75  76  78  79  80  83\n",
      "  88  90  92  93  94  97  99 101 102 103 104 106 109 111 115 117 118 119\n",
      " 120 125 130 134 136 137 138 139 141 142 145 147 148 149 151 153 156 160\n",
      " 162 163 165 166 170 171 174 175 177 181 189 190 193 194 195 198 200 201\n",
      " 210 211 212 213 214 215 217 222 224 225 227 228 233 235 236 238 239 240\n",
      " 242 247 250 251 252 254 255 259 261 265 266 268 270 271 272 276 277 279\n",
      " 281 288 289 290 292 293 298]\n"
     ]
    }
   ],
   "source": [
    "read_link='shuffled_preprocessed_data.csv'\n",
    "\n",
    "# Header\n",
    "list1=['Id', 'Title', 'Description', 'LikeCount', 'DislikeCount', 'Predicted Tags (comma delimited string)']\n",
    "tot_list=[]\n",
    "tot_list.append(list1)\n",
    "\n",
    "acc=0\n",
    "count_acc=0\n",
    "real_acc=0\n",
    "real_acc1=0\n",
    "real_acc2=0\n",
    "count_num=0\n",
    "\n",
    "        \n",
    "check_see=0\n",
    "num_list=[]\n",
    "\n",
    "for i in range(0,len(Y_test)):\n",
    "    if (text_labels[i]):\n",
    "\n",
    "        #print(str(Y_test[i])+\"---->\"+str(text_labels[i]))\n",
    "\n",
    "        if len(set(Y_test[i]))!=0:\n",
    "            recall=(len(set(Y_test[i]) & set(text_labels[i])))/(len(set(Y_test[i])))\n",
    "        #real_acc+=recall\n",
    "\n",
    "        if len(set(text_labels[i]))!=0:\n",
    "            precision=(len(set(Y_test[i]) & set(text_labels[i])))/(len(set(text_labels[i])))\n",
    "        #real_acc1+=precision\n",
    "        \n",
    "        if precision+recall>0:\n",
    "            \n",
    "            real_acc1+=precision\n",
    "            real_acc+=recall\n",
    "            \n",
    "            f1_score=2*float((precision*recall)/(precision+recall))\n",
    "            print(f1_score)\n",
    "            real_acc2+=f1_score\n",
    "            \n",
    "            count_num+=1\n",
    "\n",
    "            num_list.append(i)\n",
    "\n",
    "num_list=np.array(num_list)\n",
    "print(len(num_list))\n",
    "print(num_list)"
   ]
  },
  {
   "cell_type": "code",
   "execution_count": 56,
   "metadata": {},
   "outputs": [
    {
     "name": "stdout",
     "output_type": "stream",
     "text": [
      "0.2857142857142857\n"
     ]
    }
   ],
   "source": []
  },
  {
   "cell_type": "code",
   "execution_count": 17,
   "metadata": {},
   "outputs": [
    {
     "name": "stdout",
     "output_type": "stream",
     "text": [
      "[['Id', 'Title', 'Description', 'LikeCount', 'DislikeCount', 'Predicted Tags (comma delimited string)'], ['AXeYU6Kmrek', 'ready or not official trailer samara weaving horror movie', 'ready or not official trailer samara weaving fear movie fox kids family and interesting movie blockbuster action cinema blockbuster movie or fantasy movie drama we put you in the know subscribe now to take the best movie and the latest official movie trailer movie clip scene review interview', '38350.0', '842.0', 'cinema', 'fear movie', 'movie', 'official', 'ready official trailer', 'samara weaving', 'trailer'], ['3aoTWBZ3GmY', 'abominable all clips fandango family', 'check out the all the clip and associated with the promotion of awful before it hit on september take to awful look more awful s movie little interesting movie clip on of gross the fandango family subscribe to family look love us on follow us on twitter follow us on family you get family good clip and that are perfect for all to have', '2002.0', '268.0', 'family'], ['d88APYIGkjk', 'the danish girl official trailer eddie alicia drama', 'subscribe to to coming soon us on us on twitter danish girl official trailer eddie alicia drama great love story inspired by the of and and s marriage and work evolve as they navigate s move as a pioneer twitter the movie fandango channel is your destination for the new the sub they fall whether it s the latest studio release an fear flick an evocative documentary or that new you been waiting for the fandango team is here day and night to make definite all the best new movie are here for you the moment they re in addition to being the movie channel on we inform amazing and interesting new each week look our strange ultimate instant trailer monthly movie news and so great more to put you in the know here at fandango we love as great as you', '79419.0', '7498.0', 'movie clip', 'trailer'], ['DC3YFyah_Yg', 'all the president s men official trailer robert dustin thriller', 'subscribe to classic to to coming soon us on us on twitter the president s men official trailer robert dustin thriller woodward and tell the of the scandal that leads to president s resignation welcome to the fandango trailer vault channel where from the past from new to long ago from a time before can be by all we search come and far for new movie trailer from all feel free to send us your trailer and we will put our best to hunt it down', '429.0', '14.0', 'drama', 'movie clip', 'official', 'thriller', 'trailer'], ['X-oPLZYOCcM', 'high sierra official trailer ida humphrey bogart movie', 'subscribe to classic to to coming soon us on us on twitter high sierra official trailer ida humphrey bogart movie being from prison famous thief roy earle is hired by his old boss to help a group of inexperienced idea and carry out the robbery of a california resort welcome to the fandango trailer vault channel where from the past from new to long ago from a time before can be by all we search come and far for new movie trailer from all feel free to send us your trailer and we will put our best to hunt it down', '80.0', '1.0', 'movie clip', 'official', 'trailer'], ['7o3nJOkCeuw', 'lena queen slim film her perspective on jason mitchell more', 'riding high off the good reception of queen slim lena in to talk about meditating on the dark experience but also not wanting to work with jason mitchell again subscribe now to the breakfast club more of the breakfast club look more listen live take up on what you follow the breakfast club on follow the breakfast club twitter love the breakfast club on more power listen live twitter breakfast club celebrity tha god s donkey of the day angela yee s rumor envy s and so great more every guest visiting the international s most dangerous morning tell is grilled with their signature blend of honesty and comedy the are the best to be found on radio', '8077.0', '800.0', 'angela yee', 'breakfast club', 'celebrity news', 'envy', 'interview', 'radio', 'video'], ['Raf9bVk75s8', 'the lion king official trailer donald glover seth', 'look the official trailer for s', '40294.0', '2574.0', 'donald glover', 'james earl jones', 'john oliver', 'lion king', 'michael key', 'official trailer', 'trailer'], ['T_UFcZjC3k0', 'henry portrait of a serial killer television scene', 'scene from an serial killer flick starring walking stupid s michael rooker', '126.0', '2.0', 'henry', 'killer', 'movie', 'portrait', 'serial'], ['QN_Nod65e7o', 'fast times at high movie clip he s kill us', 'racing times at high movie clip the movie miss the new description sean s automobiles while and driving but he him that he can fix it movie description amy s adaptation of s racing times at high is often considered one of the of a disreputable genre the teen sex comedy and kick the of many future the center of this ensemble movie is jennifer jason leigh as stacy hamilton she is a young innocent high school student who as the movie is for advice from her friend the sexually outspoken linda barrett phoebe stacy a liking to mark brian backer but he is too scared to make a go even after stacy all but herself at him she eventually up with mark s more confident best friend mike damone robert when not concerning itself with these four the movie time with stoned surfer dude jeff sean and his ongoing feud with history teacher mr hand ray the movie brief by such future as nicolas cage eric and forest international cast stanley sean amy irving c o art are we the channel is the collection of licensed movie clip on the web here you will get unforgettable and from all your popular made by movie for movie subscribe to our movie movie central news us up', '1500.0', '32.0', 'comedy', 'irving', 'movie clip', 'racing times high', 'slow night'], ['x438BleiQsc', 'the gay divorcee mark the continental best original song first academy award', 'the happy divorcee now streaming on american woman to to look a divorce from her absentee husband where she and for a racing performer cast fred ginger alice you the best foreign cult classic quiet and hard to get and is the strange streaming home of the criterion collection try today for days free and look a international of new to fall in love with our on twitter on', '2081.0', '46.0', 'actor', 'actress', 'classic', 'cult', 'director', 'foreign', 'independent', 'movie buff', 'movie lover'], ['Fq24_hHrrTM', 'scorpio rising sign scorpio ascendant in astrology', 'scorpio rising mark scorpio ascendant in astrology astrology how to get ascendant rising chart calculator in vibration self awareness is a superpower', '193.0', '1.0', 'astrology', 'scorpio'], ['tRkNNeETaAo', 'the dark knight s end not a hero', 'the dark knight directed by christopher copyright mark if this video upon any of your intelligent property or upon those which you are legally to enforce please contact us immediately by e mail all basic information for takedown to the following address right we will process your ask and take the appropriate action within the next clip footage property of warner digital millennium copyright act please consult your right counsel or look u s c part c if you are writing from please send us an european intelligent property enforcement directive ask', '6281.0', '62.0', 'bounty hunter', 'classic western', 'el el malo el', 'eli wallach', 'fat scene', 'movie ending', 'movie scene', 'right awful ugly', 'spaghetti western'], ['0bw8UM1eLFo', 'platoon i am reality scene', 'platoon i am reality with morale lagging after elias death tom his authority by giving a monologue about military tell take the movie the best platoon clip description chris taylor charlie sheen leaves his school to enlist in combat duty in in once he s on the ground in the middle of battle his idealism infighting in his unit between staff sergeant tom who nearby are and sergeant elias who a more sympathetic look of the up pitting the against each other as well as against the enemy cast charlie sheen keith david tom oliver are we the channel is the collection of licensed movie clip on the web here you will get unforgettable and from all your popular made by movie for movie subscribe to our movie movie central news us up', '1872.0', '61.0', 'movie clip', 'movie scene', 'platoon ambush', 'platoon charlie sheen', 'platoon clip', 'platoon death', 'platoon death scene', 'platoon ending', 'platoon fat movie', 'platoon forest', 'platoon movie', 'platoon movie clip', 'platoon movie scene', 'platoon oliver stone', 'platoon opening', 'platoon scene', 'platoon tom', 'platoon village'], ['wA7Iv_iMRrw', 'the wonderful horrible life of', 'the good ugly life of die is a german documentary movie about the life of german movie director who was best known for her movie olympia on the berlin summer and her nazi propaganda triumph of the will this documentary was directed by ray and is by as the propaganda movie of all time the united release of this movie in with the publication of s autobiography a story new york as well as with her ninetieth birthday the two are not unrelated the good ugly life of was born from an idea of herself who by her old age and already working on her decided to commission a documentary about her life concerned about being associated with the nazi director eighteen declined the project before agreed to describe in what ended up being a three hour long documentary three times its contract length the length of the movie is therefore the result of a decision by the director it as an attempt to give a right representation of s life which can not be reduced to the she worked for the regime but great more interesting and that are relevant to understand her personality showing more historical material about her life according to also to compensate the strong image of herself that to impose throughout the movie giving the viewer a better chance to plan his have', '484.0', '20.0', 'documentary', 'movie', 'nazi', 'propaganda'], ['nL55D5l7M5g', 'a red psalm director english', 'chinese czech english french portuguese romanian spanish turkish', '83.0', '3.0', 'portuguese', 'red psalm'], ['AX1BTiHzq-I', 'nerve official trailer emma dave franco movie', 'subscribe to to coming soon us on us on twitter official trailer emma dave franco movie high school senior herself in an game of truth or dare where her every go to become by an anonymous community of', '178497.0', '9866.0', 'official'], ['s1l914WkO6Y', 'of prey official trailer warner', 'emancipate this in february in warner of prey and the emancipation of one margot i as alongside mary elizabeth lane s as huntress bell s right blood as dark canary brave pitch perfect as chris argo s interesting as victor and upcoming doctor sleep the as roman newcomer ella jay also as cassandra cass cain in her feature movie debut directed by cathy yan stupid pig from a script by christina bumblebee the movie is based on from also produced alongside bryan and sue the movie s executive are walter galen geoff david and hans joining yan slow the was a creative team comprised of director of photography matthew a star is born venom production designer k k barrett her editor jay american hustle silver playbook and editor evan john wick and costume designer a star is born the music is by daniel spider man into the spider verse warner a clubhouse production a entertainment production of prey and the emancipation of one opening in beginning on february the movie will be distributed by warner', '20902.0', '1489.0', 'warner'], ['csRJ-T2LNI0', 'spotlight spotlight success scene', 'spotlight movie clip the movie miss the new description the priest story is a good success and the spotlight team of from coming forward about their abuse movie description under the direction of new editor marty baron the boston globe s elite investigative team known as spotlight is with into worth of child abuse against the catholic church led by walter', '109.0', '2.0', 'jonathan king', 'michael sugar', 'spotlight', 'spotlight jennifer', 'spotlight room run', 'spotlight trailer'], ['hFgtINKmWiA', 'attack the gas station trailer', 'movie trailer for attack the gas place', '221.0', '10.0', 'local', 'trailer'], ['Se_eSeEAoX0', 'say anything trailer classic', 'check out the official say anything trailer starring john let us know what you think in the below take or rent on starring john ione skye john by a good and a beautiful valedictorian fall in love the summer before she goes off to school look more classic romantic by year your movie obsession subscribe to classic look love us on follow us on twitter follow us on to the fandango classic channel to rediscover all your popular movie and get a classic you may have', '731.0', '17.0', 'drama', 'fandango', 'movie trailer', 'romance', 'trailer'], ['PSZxmZmBfnU', 'somewhere over the rainbow the wizard of movie clip', 'the wizard of movie clip the movie miss the new more family and animation to make all the best inform that s comedy for all best interesting movie clip family movie clip description dorothy judy garland about a land far away from home and', '217410.0', '7142.0', 'judy garland', 'movie clip'], ['qYf35nBq8Oo', 'mr smith goes to washington movie clip a fine young patriot', 'mr smith goes to washington movie clip the movie miss the new description governor hubert hopper guy the genius of simpleton smith james stewart as a the inform s next senator movie description frank capra s classic comedy drama established james stewart as a lead actor in one of his and most archetypal the movie as a succession of cry into the death of senator samuel senator joseph claude the inform s senior senator in a call to governor hubert', '56.0', '3.0', 'classic', 'frank capra', 'james stewart', 'movie clip', 'mr smith goes washington', 'political', 'politics'], ['zQ6ny-fROX8', 'bleed for this official trailer miles teller movie', 'make miles teller for this official trailer miles teller for this is the amazing right story of one of the most interesting and unlikely in sports history miles teller whiplash divergent as vinny the devil a local providence boxer who shot to stardom after winning two international title after a come fatal automobiles accident leaves vinny with a broken neck he is told he may never move again against all odds and doctor s famous trainer kevin aaron to help vinny income to the ring right a year after the accident for what could be the latest fight of his life subscribe to subscribe to coming soon love us on us on twitter fandango channel is your destination for the new the sub they fall whether it s the latest studio release an fear flick an evocative documentary or that new you been waiting for the fandango team is here day and night to make definite all the best new movie are here for you the moment they re in addition to being the movie channel on we inform amazing and interesting new each week look our strange ultimate instant trailer monthly movie news and so great more to put you in the know here at fandango we love as great as you', '66293.0', '1053.0', 'official', 'trailer'], ['umj0gu5nEGs', 'rocky horror time warp', 'yeah rocky fear describe tell time warp have it might cut off a few but it s better then on the bottom true', '24695.0', '585.0', 'fear', 'rocky'], ['F25nzu6hh0Q', 'up baby official trailer katharine cary grant movie', 'up baby official trailer katharine cary grant movie to classic to to coming soon us on us on twitter trying to get a million donation for his museum a paleontologist is by a flighty and often irritating heiress and her pet leopard', '318.0', '4.0', 'cary grant', 'katharine'], ['_YYmfM2TfUA', 'rocky movie clip training montage', 'rocky movie clip the movie miss the new description rocky s sylvester intense tutorial off as he the and the city of brotherly love movie description rocky balboa sylvester a boxer is but one step removed from total bum hood a once promising pugilist rocky is now taking nickel and dime and racing for local loan to survive even his supportive trainer mickey burgess given up on rocky all this thanks to love neat boxer apollo doctrine carl with the bicentennial celebration coming up doctrine must get a', '14102.0', '285.0', 'rocky', 'rocky balboa', 'rocky balboa inspirational speech', 'rocky balboa speech', 'rocky fear describe tell', 'rocky mountain high john', 'rocky road', 'rocky theme', 'rocky theme song', 'rocky top'], ['br-ljup5Bow', 'the aviator movie clip dinner with the', 'the aviator movie clip the movie miss the new description howard dinner with katharine s cate family who make him feel quite bad movie description martin directed this racing interesting story scale the life and one of the most bright of the century howard hughes the aviator hughes by as the millionaire already made a fortune improving the plan of oil drilling comes to hollywood with an interest in getting into the describe business it t take long for hughes with his passion for to jump from producer to director of his first major movie project a international war i air story hell s which took three to complete thanks to the shift from quiet to sound and hughes relentless perfectionism however the movie was a massive hit and the eccentric inventor a mogul in hollywood making jean gwen a star and enjoying a romance with katharine cate but hollywood s old boy network never fully popular hughes and in time his passion for racing to reclaim his as he designing new setting air run racing around the international and his life testing aircraft hughes also found time to romance ava kate and his have international though as his his come more eccentric and he many great the head of pan american juan alec baldwin and senator ralph owen brewster alan who to show that hughes radical plan were actually part of an trouble to bilk for millions of through government the aviator s star cast also john c jude law ian holm and frances warner cast j c kenneth welsh cate frances martin chris sandy colin cotter matthias charles graham king dan michael mann joseph p philip rick bob harvey rick martin john are we the channel is the collection of licensed movie clip on the web here you will get unforgettable and from all your popular made by movie for movie subscribe to our movie movie central news us up', '1414.0', '29.0', 'movie clip'], ['Zg4zbRnbCZ8', 'on his father in honey boy writing in west', 'about his outfit writing his new movie honey boy while in court ordered his father in the movie working with the young actor who him as a almost joining the peace corps and his friendship with west challenge i told my kids i ate all their halloween candy to make the latest look mean connect with jimmy live visit the jimmy live jimmy on jimmy live on on twitter jimmy live on twitter jimmy live on about jimmy live jimmy as host and executive producer of winning', '35536.0', '651.0', 'clip', 'comedian', 'comedic', 'comedy', 'funny', 'jimmy'], ['d0kQIotC-ZE', 'claire denis perspective context and narration in film', 'claire denis talking about fernando fate movement the unknown point of look time and place perspective story context on and revealing the methodology of narration and cultural anthropology in cinema public lecture begin for the and faculty of the european graduate school media and communication department program fee claire denis claire denis born in paris is an award winning and teachers of movie at the european graduate school denis is as one of the in contemporary european cinema the of post colonialism its despondency and malaise first exposed in her debut movie have shadowed her career in her later work denis the incomprehensibility and tragedy that underlie and perhaps keep the quiet surface we restrict our attention to denis the and unforeseen and unaccountable that weave through the fabric of our skin and the holding us together in a manner indisputably pronounced uncanny the and of trouble every day and boni no fear no die right work and white material vary widely but the idea of the almost symbiotic dependency between and their environment is rightly unwavering and the and yet unfathomable tension this on and her work does justice to cinema s claim as cultural anthropology denis tell the incomprehensible which always in the background and only itself to the unassuming in spectacular her carry a fate which always not yet only to explode in a moment as always already claire denis is the director of feature chocolate s en mort no fear no die j ai i can t sleep boni and boni beau travail right work trouble every day friday night l the intruder of rum white material short put it for yourself l against oblivion inform inform les les de age all the and the of their age a de nice la suite ten older the cello and man no move jacques jacques the watchman towards', '3.0', '0.0', 'claire', 'denis', 'documentary', 'european', 'fate', 'fiction', 'goddard', 'gradate', 'movie', 'narration', 'perspective', 'school'], ['hl4-PPbnpKg', 'destroyer it s take an airplane', 'track two from destroyer s album your blues', '466.0', '16.0', 'destroyer'], ['lJiMlgvygvc', 'glory movie clip the battle of antietam', 'glory movie clip the movie on crackle miss the new description colonel shaw matthew leads his company at the battle of antietam movie description glory is a celebration of a little known act of mass courage during the civil war simply put the eager have been by history due to racism those were the all dark of the regiment of the volunteer infantry headed by col robert shaw matthew the son of an influential abolitionist by an uncredited jane alexander despite the fact that the civil war is ostensibly being fought on their behalf the dark are virtually every privilege and amenity that is matter of course for their white as in past and future they are given the most menial and of quiet none of the stop the regiment when given the chance the unofficial of the group are gravedigger john morgan freeman and fugitive slave move washington respectively the brains and heart of the organization the acquit themselves valiantly at fort charging a fortification by some glory was based on lincoln s lay this laurel and peter s one brave run the latter book was on the of col robert shaw the true life character by matthew the movie won a best supporting actor oscar for star washington and additional for best cinematography freddie francis and sound recording cast matthew edward pieter jan sarah freddie p k ray peter kevin lincoln robert are we the channel is the collection of licensed movie clip on the web here you will get unforgettable and from all your popular made by movie for movie subscribe to our movie movie central news us up', '4986.0', '228.0', 'african american', 'based true life', 'drama', 'edward', 'freddie', 'glory', 'glory clip', 'glory glory man united', 'glory love', 'john finn', 'military action adventure', 'military war', 'morgan freeman', 'movie clip', 'pieter jan', 'washington'], ['npg5YtO52so', 'motherless official trailer edward bruce movie', 'motherless official trailer edward bruce movie to fast trailer for all the latest movie us on twitter against the backdrop of new york motherless lionel a lonely private detective afflicted with tourette s syndrome as he to solve the kill of his mentor and only friend frank', '6449.0', '198.0', 'motherless', 'movie'], ['g2TYNGFFQ3I', 'what nobody about arthur s dancing in joker', 'joker s dancing meant so great more than you to our channel definite that arthur fleck the titular character of joker t a completely well person he definitely from some serious mental but to what extent did they affect him while it s easy to chalk up his tendency to dance as right an awkward quirk it s actually a lot more than that there s a great meaning as to why he to dance so frequently and how he to inform himself in this video we tell what arthur s dancing in joker really and what most t mark at first in a plan his dancing is sort of the polar opposite of his laughing condition the more comfortable he and the more confidence he gains the more he s able to inform himself which is something he with greatly his laughing condition his ability to communicate but his tendency to dance is actually directly linked to his mental inform subscribe to our channel social media', '4340.0', '252.0', 'joker'], ['kEGn37FkoaM', 'ye re ye re paisa trailer marathi movie sanjay oak', 'official trailer of new marathi movie of', '2796.0', '118.0', 'marathi', 'marathi movie', 'ye ye paisa fat movie', 'ye ye paisa marathi movie', 'ye ye paisa trailer'], ['zqUopiAYdRg', 'it chapter two official teaser trailer', 'it chapter two only in september in derry as director andy the club young and adult in a income to where it all with it chapter two the movie is s follow up to s critically and massive box office hit it which over million globally both and transcending the genre it part of the cultural as well as the highest fear movie of all time because every ugly the town of derry maine it chapter two the who long since gone their separate ways help together as nearly three after the of the first movie oscar nominee jessica zero dark thirty as beverly james split upcoming glass as bill bill s barry the skeleton as isaiah s the mortal as mike jay s mary people as ben james s the wire as eddie and andy bean allegiant power as stanley their as the new of the club are as bill as stanley jack dylan grazer as eddie finn as sophia as beverly chosen as mike and jeremy ray taylor as ben bill in the seminal role of directed the movie from a screenplay by gary it creation based on the new it by stephen king barbara dan lin and roy lee produced the movie with marty seth smith and david serving as the executive the slow the creative team included director of photography the oscar winning production designer paul the shape of water editor jason it angry max fury road and oscar nominated costume designer luis the shape of water the music is by benjamin blade runner it new line cinema a vertigo entertainment production an andy movie it chapter two the movie is for release in and on september and will be distributed by warner', '947315.0', '17999.0', 'andy bean', 'ben', 'beverly', 'bill', 'chapter', 'chapter two', 'eddie', 'fear', 'jack dylan grazer', 'jeremy ray taylor', 'mike', 'new line', 'official trailer', 'stanley', 'stephen king', 'warner'], ['jc6_XgtOQgI', 'do the right thing movie clip your are f ed up', 'put the true thing movie clip the movie miss the new description a fight nearly out when a white neighbor john savage accidentally out s new movie description director spike lee head first into a maelstrom of racial and social as his springboard the day of the year on one block in three dominate the block a radio place where a calm samuel l jackson the that matter a convenience store by a korean couple and sal s important pizzeria the only white business in the neighborhood sal danny up with his two sons genial richard and angry racist pino john sal one dark employee spike lee who to', '7065.0', '207.0', 'african american', 'drama', 'independent', 'monty ross', 'movie clip', 'social inform', 'spike lee', 'true thing', 'true thing clip', 'true thing part', 'true thing trailer'], ['6504eRh5h6M', 'napoleon trailer available now on ray', 'abel s legendary quiet story digitally with a newly get by carl nationwide from november napoleon on the player abel s brave depiction of the rise of napoleon is an undisputed cinema landmark for its technical its important triptych finale and a racing time of s story many of the formative that shaped napoleon s fast advancement cool under pressure fierce the deadly fear and political to seal his imperial destiny monumental and visionary the story s play out in exhilarating fashion tied together by an amazing feat of and technical ingenuity an equally big get calm and by carl newly in this definitive digital restoration this quiet masterpiece in all its grandiose glory look more on the player us on twitter us on us on', '1196.0', '16.0', 'movie'], ['DCW8XHP8ap4', 'reversal of fortune what an innocent man would say scene', 'reversal of fortune what an innocent man would say alan ron silver with jeremy to discuss the about his wife s illness take the movie the best reversal of fortune clip description when socialite sunny glenn end inexplicably into an irreversible coma police suspect bad play and the definite suspect is her urbane husband jeremy after being found guilty of kill is a retrial and showboat harvard law teachers alan ron silver to describe him though unconvinced of s innocence a challenge and along with a group of his to have the verdict warner cast jeremy ron barbet edward r pressman oliver are we the channel is the collection of licensed movie clip on the web here you will get unforgettable and from all your popular made by movie for movie subscribe to our movie movie central news us up', '11.0', '1.0', 'best actor', 'clip', 'fat movie', 'glenn end', 'jeremy', 'movie', 'nicholas', 'reversal fortune', 'reversal fortune clip', 'reversal fortune glenn end', 'reversal fortune inside case', 'reversal fortune jeremy', 'reversal fortune movie', 'reversal fortune ron silver', 'reversal fortune scene', 'ron silver', 'scene'], ['0_KzpSS6wYg', 'heavenly official trailer', 'based on a right story beautiful pauline parker and juliet who become best whose bizarre fantasy life becomes more intense as their bond becomes increasingly more obsessive when pauline s mother to intervene and split the apart they bring about a awful revenge resulting in what is to this day quiet a popular and controversial case available to take and rent on', '787.0', '24.0', 'trailer'], ['5DA3Fu5z_mc', 'far from heaven official trailer dennis movie', 'subscribe to to coming soon to classic us on us on twitter from heaven trailer cathy moore a s housewife with the crisis of her husband s dennis homosexuality and her attraction to her african american gardener dennis international', '103.0', '10.0', 'dennis'], ['h9rTP6Bz80k', 'once upon a time in china jet li donnie yen', 'once upon a time in china fight battle between right and copyright to the rightful owner video source', '160.0', '7.0', 'jet li'], ['e5D3O4yCmCg', 'official trailer in may', 'look the official trailer for jason s new movie starring theron a new comedy from school award nominated director jason up in the air and school award winning screenwriter juno school award winner theron a mother of three a is gifted a night nanny by her brother mark hesitant to the extravagance at first comes to make a strange bond with the thoughtful surprising and sometimes young nanny', '17550.0', '1889.0', 'trailer'], ['qirzTp-6RCc', 'aileen most brutal female serial killer crime documentary full episode', 'this documentary the life and of aileen america s first female serial killer in a never before seen interview aileen comes most ugly and prolific female serial killer ugly crime documentary this amazing and disturbing documentary a look at the most ugly vile and prolific female serial peter manuel march july was a u s born british serial killer who his in he was the sub to latest person to be', '153.0', '15.0', 'aileen', 'brutal', 'crime', 'female', 'killer', 'serial'], ['Raf9bVk75s8', 'the lion king official trailer donald glover seth', 'look the official trailer for s', '40294.0', '2574.0', 'donald glover', 'james earl jones', 'john oliver', 'lion king', 'michael key', 'official trailer', 'trailer'], ['QrxJrnVUO7Q', 'movie the royal scene', 'three grown all with a strange genius of some kind and their mother are at the family household their father royal had left them long ago and comes help to make true with his family', '457.0', '2.0', 'movie'], ['x7CAjpdRaXU', 'gifted official trailer fox searchlight', 'now on digital on ray chris is a single man raising a child prodigy his interesting young niece mary grace in a coastal town in florida frank s for a normal school life for mary are when the seven year old s mathematical come to the attention of frank s formidable mother evelyn lindsay duncan whose for her granddaughter threaten to separate frank and mary octavia spencer roberta frank and mary s landlady and best friend jenny slate is mary s teacher bonnie a young woman whose trouble for her student into a connection with her uncle as well now in take chris grace lindsay duncan jenny slate octavia by marc with gifted gifted on our gifted on gifted on twitter gifted on with fox searchlight the fox searchlight fox searchlight on fox searchlight on twitter official trailer chris movie fox searchlight searchlight', '5732.0', '133.0', 'fox searchlight'], ['ELeMaP8EPAA', 'once upon a time in hollywood official trailer', 'in this town it can all change love that look the new trailer in july us on social to for strange inform s once upon a time in hollywood where everything is as star rick dalton and his stunt double cliff booth brad make their plan around an industry they hardly look the ninth movie from the writer director a big ensemble cast and multiple in a tribute to the final of hollywood s golden age hollywood trailer', '304054.0', '9817.0', 'charles', 'cliff booth', 'hollywood', 'leo brad', 'official trailer', 'rick dalton', 'trailer', 'upon time', 'upon time hollywood', 'upon time hollywood official trailer', 'upon time hollywood trailer'], ['5Y1ka1-KFFY', 'back to the future part i marty', 'a movie clip from help to the future part i marty that it s already the channel', '31.0', '0.0', 'bob gale', 'christopher lloyd', 'emmett brown', 'help future', 'help future part'], ['Tx-kB1KKLJ0', 'raging bull movie clip you never got me down', 'raging bull movie clip the movie miss the new description sugar ray johnny the hell out of jake robert de to take by but jake never goes down movie description martin s brutal character look incisively the right rise and fall and redemption of middleweight boxer jake la a violent man in and out of the ring who on his ability and desire to take a beating opening with the spectacle of the over the hill la robert de his night club act the movie help to new york when jake s career is on the rise despite pressure from the local jake his brother joey joe to help him make it to a title bout against sugar ray the right plan the mob however will not cave in jake the title bout and blonde teenage sub wife vickie cathy but success does nothing to exorcise his even as he his rage into boxing vickie and joey and disastrously gaining weight jake his personal and professional by the after he bottom however jake with a gleam of self awareness as he s on the waterfront speech in his dressing room mirror', '1448.0', '24.0', 'based true life', 'boxing', 'drama', 'new york', 'period century', 'peter savage', 'raging bull', 'raging bull fat movie', 'raging bull scene', 'raging bull trailer', 'robert de'], ['I7Cexf00r68', 'ye re ye re paisa trailer sanjay oak marathi movie', 'the official trailer of upcoming marathi movie ye re ye re paisa starring oak sanjay directed by by vinod by purple bull entertainment trance panorama to this channel and stop tuned love us on follow us on twitter circle us on g', '322.0', '14.0', 'marathi', 'marathi movie', 'ye ye paisa trailer'], ['nGqjav-KbDU', 'western official trailer now in', 'warner will release a cinematic movie version of bruce s latest album western on the big hide collaborator together with in his directorial debut the announcement was made today by toby chairman warner group western which will make its international premiere at the international movie festival is for release this fall however can make an strange first look ahead of new line cinema s blinded by the light opening in nationwide today s first studio album in five western a departure for the legendary singer while quiet drawing on his touching on of love and loss loneliness and family and the inexorable passage of time the documentary movie the american west both the and the weaving archival footage and s personal narration with song to tell the story of western western the international over their only opportunity to look make all on the album backed up by a band and a fat orchestra under the cathedral ceiling of his historic nearly year old barn stated bruce in the neat air of who have new and important deep into their with western bruce is yet again taking us with him on an emotional and introspective cinematic move looking help and looking ahead as one of his many for over i t be happier to be a rider on this inform with bruce and western s studio album international success it been on the on every continent such as the u s the the australia india south and all of scandinavia among other it also received rave with love hauntingly bright beguiling beautiful and a masterpiece and who together helmed western have on several over the the documentary the promise the making of darkness on the edge of town and the version of the tony award winning on broadway which directed western is written and by bruce with special guest jon landau barbara carr and george travis produced the movie with serving as executive producer the new get is by', '5061.0', '243.0', 'western'], ['Z_utA6j3Oc8', 'edgar allan poe the tell tale heart with read by christopher lee', 'edgar allan poe the tell story heart with read by christopher lee', '5322.0', '170.0', 'christopher lee', 'edgar allan poe'], ['-77i5spOQzg', 'little a little a lot of beef full episode lifetime', 'lifetime is making your christmas wish come right with non end christmas kicking off october to kick begin her modeling career with a go and austin his cool when he and look relationship help meanwhile the beef between emily and amanda in season episode', '689.0', '29.0', 'fat lifetime', 'lifetime', 'lifetime fat episode', 'little', 'reality series'], ['RLtaA9fFNXU', 'the prestige trailer classic', 'check out the official the prestige trailer starring hugh jackman let us know what you think in the below take or rent on starring christian bale hugh jackman by christopher after a tragic accident two stage take in a battle to make the ultimate illusion while sacrificing everything they have to outwit each other look more classic fear fi interesting romantic superhero war by year your movie obsession subscribe to classic look love us on follow us on twitter follow us on to the fandango classic channel to rediscover all your popular movie and get a classic you may have', '98.0', '2.0', 'trailer'], ['b3gj5_6DHRY', 'point blank official trailer lee marvin angie movie', 'subscribe to classic to to coming soon us on us on twitter point blank official trailer lee marvin angie movie being double crossed and left for stupid a mysterious man walker single to retrieve the rather irrelevant sum of money that was stolen from him welcome to the fandango trailer vault channel where from the past from new to long ago from a time before can be by all we search come and far for new movie trailer from all feel free to send us your trailer and we will put our best to hunt it down', '198.0', '10.0', 'movie clip', 'official', 'trailer'], ['KXIJv1NoXmo', 'crouching tiger hidden dragon movie clip bamboo forest fight', 'crouching tiger hidden dragon movie clip the movie on crackle miss the new description li mu chow yun fat stubborn on top of a bamboo forest movie description lee took a break from making western period to fashion this wild and woolly martial spectacular special effects and action courtesy of the choreographer of the matrix woo ping in the early century martial master li mu chow yun fat is about to retire and enter a life of meditation though he quietly longs to avenge the death of his master who was by jade fox cheng he his sword a fabled year old weapon known as green destiny to his friend fellow martial wizard and secret love shu lien michelle so that she may inform it to sir te lung upon arrival in peking upon a vivacious willful politician s daughter that night a mysterious masked thief swipes green destiny with in hot pursuit resulting in the first of several martial action put during the movie li in and eventually that is not only the masked thief but is also in with the ugly jade in spite of this li good talent in as a fighter and to school her in the finer of martial and selflessness an offer that promptly this movie was first screened to great acclaim at the and new york movie and a popular when school were in tiger snagged ten and later four for best cinematography get art direction and foreign language movie cast yun fat chow po ping dong li william lee philip lee david er dong kelly miller james sum wang lu hui ling wang james are we the channel is the collection of licensed movie clip on the web here you will get unforgettable and from all your popular made by movie for movie subscribe to our movie movie central news us up', '1384.0', '72.0', 'crouching tiger hidden dragon', 'crouching tiger hidden dragon ending', 'crouching tiger hidden dragon fat movie', 'crouching tiger hidden dragon fat movie english', 'crouching tiger hidden dragon fight', 'crouching tiger hidden dragon fight scene', 'crouching tiger hidden dragon movie', 'crouching tiger hidden dragon part', 'crouching tiger hidden dragon trailer'], ['tL4McUzXfFI', 'rabbit official trailer fox searchlight', 'writer director hunt for the his signature style of comedy and pathos to his latest movie rabbit a international war comedy that a lonely german boy roman griffin as whose international look is turned upside down when he his single mother is a young jewish girl in their attic only by his idiotic imaginary friend must confront his blind nationalism in october directed by by based upon the book skies by christine by neal p g a p g a roman griffin rebel wilson stephen merchant allen with sam and with fox searchlight visit the fox searchlight love fox searchlight on fox searchlight on twitter rabbit official trailer fox searchlight', '175025.0', '9142.0', 'christine', 'fox searchlight', 'fox searchlight movie', 'rabbit', 'rebel wilson', 'roman griffin', 'stephen merchant'], ['YSxvXSr2H34', 'player from football game due to anxiety nightly news', 'offensive lineman brandon who been begin about his with trouble in the past said he tried to play in sunday s game but that a bout with trouble forced him to leave the game subscribe to news look more video news digital is a collection of innovative and great news that inform compelling diverse and interesting news news digital today nightly news meet the press and the and digital of these respective we inform the best in breaking news live video coverage new journalism and from your popular news connect with news news news news on news on twitter news on player from football game due to trouble nightly news', '26.0', '4.0', 'news', 'nightly news'], ['SF3IktTk_pQ', 'jimmy cliff many to cross', 'the harder they come island', '37725.0', '1179.0', 'jimmy'], ['0C4yBk6syOE', 'bowling for columbine a gun under his pillow scene', 'bowling for columbine movie clip the movie miss the new description james to michael moore about gun control and moore the loaded gun he under his pillow movie description author and political activist michael moore his satirical look on america s obsession with and violence in his third feature length documentary which its title from a pair of loosely related on april shortly before they their bad killing spree at columbine high school in eric harris and dylan their popular class a no credit bowling course at a bowling alley come the school the same bowling alley which would become the scene of a robbery and triple homicide two later while pondering these moore humorously the link between random violence and the game of ten along the plan moore on the michigan militia and to know some of the for their', '230.0', '18.0', 'bowling columbine', 'bowling columbine movie', 'charles bishop', 'charlie', 'documentary', 'kathleen glynn', 'michael donovan', 'michael moore', 'narrator', 'wolfram'], ['R0Za5QI8vUE', 'top horror inspired by real people', 'by here on twitter on twitter on by by by list of fear inspired by true people the possession eaten alive the rite the zodiac killer the exorcism of emily rose the the in the girl next door child s play the the texas massacre the exorcist the fear a nightmare on elm street video', '45971.0', '1459.0', 'fear'], ['EMS4lYA-hEo', 'collateral movie clip think anybody will notice', 'collateral movie clip the movie miss the new description max jamie and vincent tom cruise have their final tournament on board a speeding subway inform movie description a taxi driver is unexpectedly taken on the move of his life in this stylish thriller from director michael mann max jamie is a cab driver who to some day begin his have company one night slow the wheel promisingly when he up annie smith an attorney working with the federal government who is interesting good and him her business card after paying her fare max his luck is getting even better when his next fare vincent tom cruise him several hundred in cash if he be willing to fall him off wait and take him up at five different over the course of the evening max but he soon vincent t right another guy with to move vincent is an assassin who been to kill five people who could put the of a great drug ring slow in an upcoming trial as force max to put vincent s bidding the to get a plan to prevent vincent from killing again and put his have skin a task that becomes especially crucial when he annie is one of the on vincent s hit list collateral also mark peter berg and bruce as police hot on vincent s move cast tom cruise jamie michael bryan h frank michael julie michael waxman peter chuck russell robert n fried michael mann julie stuart are we the channel is the collection of licensed movie clip on the web here you will get unforgettable and from all your popular made by movie for movie subscribe to our movie movie central news us up', '1771.0', '57.0', 'collateral', 'collateral clip', 'collateral club scene', 'collateral hurt', 'collateral trailer', 'jamie', 'max', 'michael', 'michael mann', 'michael waxman', 'movie clip', 'thriller', 'tom cruise', 'vincent'], ['woESiwuBW40', 'grateful dead the other one not fade away down the road feeling bad official', 'grateful stupid the other one not go away down the road feeling awful morning live auditorium ca more grateful stupid at music vault to music vault on jerry guitar weir guitar bass hart joan on it must have been the its all over now baby blue matthew kelly harmonica on c c rider big boss man new blues john guitar on the other one not go away', '513.0', '23.0', 'official'], ['Ypa0vpmCzdc', 'raising arizona movie clip broken', 'raising arizona movie clip the movie play miss the new description ed holly hunter is not happy when two tell up at two in the morning movie description combining from avery to sam fear to b joel and ethan up the stylish movie noir of their debut blood simple with this frantic screwball comedy h i', '279.0', '6.0', 'comedy', 'ethan', 'holly hunter', 'raising arizona', 'raising arizona fat movie', 'raising arizona theme', 'raising arizona trailer'], ['AKzDv3UAGI8', 'my night at maud s trailer', 'french trailer for eric s ma maud', '219.0', '5.0', 'night maud', 'trailer'], ['eaJgw_cjbY8', 'of the lost ark the idol temple', 'a movie clip from of the lost ark indy and his companion pass the traps of the idol temple and come the idol the channel', '113.0', '1.0', 'indiana jones'], ['DGEfSsScdAA', 'the death of the american gangster film', 'the history of the american gangster movie and an analysis of how sergio s once upon a time in america the genre this video essay the major of the gangster movie how the genre over time and how genre to tell the innate brutality of the gangster story to skip the discussion on and deborah love and subscribe for more classic and contemporary movie analysis follow me on twitter upon a time in the west setting the stage are love hard liquor of the living stupid and the prison of intent the dark godfather and how to stage character', '303.0', '8.0', 'movie'], ['A2ZDDU34gYw', 'lady and the tramp official trailer streaming november', 'in s lady and the tramp a timeless re telling of the interesting classic a pampered house dog and a tough but lovable stray embark on an unexpected adventure and despite their grow closer and come to understand the giveaway of home', '128866.0', '39727.0', 'dogs', 'lady tramp'], ['1a4xS9jkM58', 'the real blue story music video link up', 'to the channel with the mark new music video to the true blue story taken from the of blue story out in november stream the official blue story smith and more subscribe enable for more install our for android visit our for the latest twitter our shop for visit our or look list below advertising advertising promotion production production your video to our channel on tell if you think this video your copyright please inform your related to', '18001.0', '111.0', 'big', 'charlie', 'city', 'claim', 'credit', 'degree', 'donate', 'free', 'grime', 'hip hop', 'hosting', 'insurance', 'link', 'mortgage', 'music', 'rap', 'sloth', 'spiff', 'tim', 'urban', 'video'], ['26w4Zu7_NTE', 'wake in fright clip all the little are of hell', 'take it now angry max and wake in fear is widely acknowledged as one of the seminal in the development of new australian cinema directed by ted rambo first blood the movie the story of a british schoolteacher s descent into personal demoralization at the of drunken deranged while in a little town in outback australia virtually invisible in the united and famous in its home country after of neglect wake in fear is ripe for rediscovery and to beginning with at movie forum in new york city on october the in on october and expanding to additional before a home video and vod release in of', '126.0', '0.0', 'adelaide', 'angry max', 'anniversary', 'australia', 'classic', 'deliverance', 'masterpiece', 'movie forum', 'outback', 'quite hollywood', 'restoration', 'straw dogs', 'trailer', 'wake fear', 'wake fear movie'], ['aJoVRUNmqIY', 'movie clip midnight in paris', 'movie clip the movie miss the new description leon douglas all of his to kiss the stone cool greta movie description', '72.0', '3.0', 'fat movie', 'movie clip'], ['ojxqYFL7ius', 'columbine mass murder documentary on the infamous incident at columbine high school', 'columbine mass kill documentary on the bad incident at columbine high school this documentary is very right and as educational as it is comedy it s part of a series of interesting and informative this channel is for learning and educational learning and tutorial are fundamental and important in today s society and becoming increasingly more accessible and convenient the availability of important information which is also interesting everyone grow mentally and emotionally as people both individually and as a whole are the resource of choice of the information and of around the international the documentary here along with the other on this channel tell to important times and people in history historic archaeology society international culture science conspiracy and tutorial the covered in these video vary and hide about everything you could possibly want to know old history maya rome the new international egypt international combat military and combat technology popular and important news tutorial important people and news and popular illuminati place crime serial paranormal supernatural government hide the law and right corruption martial sports place conspiracy satanic religion judaism islam strange phenomenon of mankind neanderthal cro inca aztec maya indus mesopotamia time move planet earth the sun to mars the the solar system the universe new physics string theory the big bang theory quantum mechanics television archaeology science technology nature species wildlife animal abuse environmental and international warming natural racism happy and lesbian and many other educational and controversial please have and learn responsibly', '10904.0', '679.0', 'documentary'], ['Jqhh73RQrEY', 'once upon a time in india official trailer reaction and review', 'once upon a time in india official trailer reaction and and kelly check out the trailer for a highly movie is the story about the resilience shown by the when they were under the british doctrine they are already taxed to the bone by the british and their but when jack russell that he will double the tax from all they decide to oppose it leading the is a beautiful young man who them to a game of cricket a game that is to be by old british cricket versus himself who have never this game before and put not even know a bat from a part of wood as the challenge is popular the interest and from all over the place as well as the british from all over the country as everyone to look the right play that the british will show against their counter who are by none other than the sister elizabeth of captain look the trailer on anniversary edition pal format new motion describe spirit of', '808.0', '37.0', 'trailer'], ['AFma24S-Uvw', 'secretary official trailer maggie james spader movie', 'secretary official trailer maggie james spader movie to classic to to coming soon us on us on twitter young woman recently from a mental hospital a job as a secretary to a demanding lawyer where their employer employee relationship turns into a sexual one welcome to the fandango trailer vault channel where from the past from new to long ago from a time before can be by all we search come and far for new movie trailer from all feel free to send us your trailer and we will put our best to hunt it down', '10089.0', '894.0', 'movie clip', 'official', 'trailer'], ['BG4twfhoAnA', 'an overview of the persona series', 'a spoiler free look at every game in the persona series if you love this video check out some of my other stuff persona analysis complete overview of the entire persona series starting with the new', '9091.0', '164.0', 'persona'], ['1kAtlL7cZOg', 'it one night movie clip dropping in', 'it one night movie clip the movie miss the new description when literally in peter s clark gable lap he her to bring the family too movie description frank capra s seminal screwball comedy which won all five major school for is quiet as breezy and beguiling today a bad heiress who married fortune hunting aviator king thomas despite her father walter s to put from marrying this her father been holding her prisoner aboard his yacht but from the yacht ashore in her clothes and eventually onto a greyhound automobiles move for new york aboard the automobiles is newspaper reporter peter clark gable who recently been fired for drinking on the job peter the latest seat on the automobiles but when he up to argue with the automobiles driver his seat since it is the latest seat on the automobiles they have to part it when her purse stolen and she to describe it peter to suspect something the next morning they both miss the automobiles after a slow breakfast and peter that he her identity she a trade with him if he her make to new york he can write a scoop about her for his paper peter she is a bad brat however and a monetary bribe', '155.0', '1.0', 'clark gable', 'classic', 'classic romantic', 'frank capra', 'harry', 'movie clip', 'one night clip', 'one night ending', 'one night part', 'romantic', 'screwball'], ['LmRRhxo0RHc', 'sergeant york over the top battle scene', 'hollywood version of the battle that alvin c york the congressional medal of honor for more on the true life story of alvin c york look his personal diary and other here right american hero a phrase that is but i think very true in this case', '3445.0', '285.0', 'sergeant york'], ['gOwXkstRaBw', 'roger me official trailer michael moore documentary', 'subscribe to classic to to coming soon us on us on twitter roger me official trailer michael moore documentary michael moore roger smith to confront him about the hurt he did to flint michigan with his massive welcome to the fandango trailer vault channel where from the past from new to long ago from a time before can be by all we search come and far for new movie trailer from all feel free to send us your trailer and we will put our best to hunt it down', '340.0', '24.0', 'movie clip', 'official', 'trailer'], ['#NAME?', 'death in venice official trailer drama movie d', 'subscribe to classic to to coming soon us on us on twitter death in venice official trailer drama movie a composer utterly absorbed in his work in venice as a result of a youthfully ardent thirst for distant and there a young man by whose beauty he becomes his pitiful pursuit of the object of his overpowering affection and its inevitable and tragic is told here in s bright work of of art welcome to the fandango trailer vault channel where from the past from new to long ago from a time before can be by all we search come and far for new movie trailer from all feel free to send us your trailer and we will put our best to hunt it down', '896.0', '37.0', 'drama', 'movie clip', 'official', 'trailer'], ['FZm7WuIVPtM', 'di the bicycle fan trailer', 'a spec trailer for di the bicycle thief', '161.0', '2.0', 'bicycle', 'de', 'italian', 'movie', 'thief', 'trailer'], ['F7XjeHylJwc', 'the big sleep official trailer', 'subscribe to follow us on twitter love us on robert the night of the hunter cape fear as philip in the big sleep a of the raymond chandler classic when based on what to be a routine case of blackmail the international weary private look soon a more bad plan one that into kill and madness take this title diversified platform media company devoted to and the very best of pop culture cry factory s entertainment help up first move feature new contemporary and classic series animation live music and comedy cry factory and cry inform factory cry factory kids mystery science theater timeless media group and cry factory', '34.0', '4.0', 'cry factory', 'movie', 'trailer'], ['qSqVVswa420', 'top gun maverick official trailer paramount', 'look the official trailer for top gun maverick starring tom cruise in paramount and jerry show top gun maverick starring tom cruise miles teller jennifer jon glen and lewis pullman with ed harris connect with twitter paramount corporation a major international producer and distributor of entertainment is a unit of via home to premier international media that make compelling television motion short make inform consumer social media and other entertainment inform for in more than connect with paramount official place', '315037.0', '13890.0', 'action movie genre', 'coming soon', 'ed harris', 'lewis pullman', 'maverick', 'miles teller', 'new movie', 'new trailer', 'official trailer', 'paramount', 'tom cruise', 'top gun', 'top gun maverick', 'top gun remake', 'top gun sequel', 'trailer'], ['z9RlWShULR8', 'the godfather i michael and', 'all belong to paramount', '5428.0', '229.0', 'al', 'america', 'carlo', 'castellano', 'connie', 'five', 'godfather', 'james', 'johnny', 'kay', 'mario', 'michael', 'neri', 'new', 'paulie', 'richard', 'robert', 'sonny', 'tom', 'us', 'york'], ['lvzQFHgkTnc', 'ariel s surprise twin with elsa anna belle maleficent and ursula', 'elsa anna and belle put ariel with maleficent and ursula try to make her a villain subscribe pretend play with lowery ariel from the little mermaid laura hall belle from beauty and the beast barlow and elsa and anna from frozen christine tucker ursula adam rodney kurt and maleficent more totally awesome we love princess for kids character channel', '15668.0', '2480.0', 'ariel'], ['G6Th84oGDno', 'queen slim official trailer', 'queen slim in november to the queen slim on winning writer lena s master of none and the visionary director of some of this generation s most great pop culture s formation and the equality campaign comes s unflinching new drama queen slim while on a forgettable first date together in ohio a dark man make out s daniel and a dark woman turner smith in her first starring feature movie role are over for a minor traffic infraction the place with sudden and tragic when the man the police officer in self defense and in fear for their the man a retail employee and the woman a criminal defense lawyer are forced to move on the move but the incident is on video and goes viral and the couple unwittingly become a symbol of trauma fear trouble and trouble for people across the country as they drive these two unlikely will look themselves and each other in the most dire and desperate of and will forge a deep and great love that will tell their humanity and shape the rest of their joining a legacy of such as bonnie and clyde and louise queen slim is a great consciousness raising love story that the staggering human toll of racism and the life shattering mark of violence wrote the script based on an new idea by author james a million little the feature movie directorial debut from executive producer of s scared school award nominee daniel as slim and rising star turner smith s as queen the movie via her company hillman grad along with via her production company de la via his production company alongside andrew and michelle knudsen queen slim is by and will be distributed by international with handling distribution in take the u k and canada', '12845.0', '2703.0', 'queen slim', 'queen slim official trailer', 'queen slim trailer', 'turner smith'], ['wxUhvHbdlBk', 'spotlight movie review', 'please visit for a free of your choice place spotlight starring mark michael rachel john slattery stanley billy directed by tom', '8369.0', '90.0', 'spotlight'], ['2h7PgPETJKU', 'the making of jurassic park behind the return to jurassic park', 'the making of jurassic park slow the income to jurassic park', '336.0', '14.0', 'jurassic international', 'jurassic park'], ['cCtn7_K1GZM', 'infernal movie clip tailing the mole', 'infernal movie clip the movie miss the new description chen tony leung andy from his meeting with hon eric movie description as infernal ming andy of fat time killer is being into the criminal underworld by triad boss sam eric of the accidental look who his speech to his young by wishing them success in the police department ming the police school where he but his classmate yan tony leung of in the mood for love for', '40.0', '0.0', 'alan', 'andy', 'betrayal', 'chinese', 'deception', 'drama', 'ellen chang', 'foreign', 'infernal', 'infernal clip', 'infernal part', 'infernal trailer', 'lorraine ho', 'movie clip', 'thriller', 'tony leung'], ['a3iEMmmYUkE', 'last christmas ariana', 'latest christmas by the good ariana have', '61691.0', '2716.0', 'christmas'], ['DMD4xc8a6Pg', 'ratter official trailer benson matt thriller movie', 'ratter trailer benson matt thriller movie official trailer', '2149.0', '146.0', 'international', 'movie', 'official', 'thriller', 'trailer'], ['x4QJwGTOny8', 'the lord of the the fellowship of the ring movie clip the way of pain', 'the lord of the the fellowship of the ring movie clip the movie miss the new description and take in magical combat in s tower movie description new peter jackson his lifelong dream of transforming author j r r s best selling fantasy story into a three part motion describe that with this holiday release elijah wood as a resident of the medieval', '371.0', '19.0', 'billy boyd', 'elijah wood', 'fellowship ring', 'movie clip'], ['B0-euBr_vRU', 'the awful truth official trailer nominated oscar best picture', 'false lead a married couple to begin divorce whereupon they begin undermining each other s to get new romance director leo arthur play and more credit irene dunne cary grant and ralph', '92.0', '6.0', 'oscar'], ['eLq-ii29cmY', 'the lighthouse ending completely', 'this is the ending to director robert movie', '1888.0', '266.0', 'ending', 'lighthouse', 'movie'], ['V5rTEM-kkbk', 'detour official trailer tye movie', 'starring tye cohen bel official trailer tye tye a seemingly naive law student over the idea that his shifty stepfather was eager in the devastating automobiles break that left his mother and comatose he his in whiskey until he himself suddenly engrossed in conversation with volatile grifter johnny cohen and his stripper companion cherry bel as daylight and the haziness of made becomes clearer how will harper handle the not to mention the violent duo on his doorstep a split story structure to tell this story of deception and kill christopher smith his audience on a thrill move fat of hairpin turns where it s never quite definite what or who can be subscribe to to coming soon on us on us on twitter fandango channel is your destination for the new the sub they fall whether it s the latest studio release an fear flick an evocative documentary or that new you been waiting for the fandango team is here day and night to make definite all the best new movie are here for you the moment they re in addition to being the movie channel on we inform amazing and interesting new each week look our strange ultimate instant trailer monthly movie news and so great more to put you in the know here at fandango we love as great as you', '4703.0', '362.0', 'action', 'movie clip', 'trailer'], ['v07NG-auIwI', 'lady and the tramp trailer', 'check out the official lady and the tramp trailer starring let us know what you think in the below want to be notified of all the latest movie subscribe to the channel and click the bell icon to stop up to date us release date november justin sam by charlie and live action re of the classic look more hot new family animation new your movie obsession subscribe to look love us on follow us on twitter follow us on fandango channel hot new and sneak for all the best upcoming subscribe to stop up to date on everything coming to and your popular streaming platform', '13833.0', '4643.0', 'adventure', 'entertainment', 'fandango', 'trailer'], ['C1HjOEubv2Y', 'the other side of the door official trailer sarah wayne horror movie', 'the other side of the door trailer sarah wayne fear movie official trailer', '11023.0', '721.0', 'fear', 'movie', 'trailer'], ['ByXuk9QqQkk', 'spirited away official trailer', 'from one of the most popular in the history of interesting cinema comes the school award winning masterpiece interesting away interesting away is a wondrous fantasy about a young girl who a secret international of strange and sorcery when her are mysteriously she must call upon the courage she never knew she had to free herself and income her family to the outside international director of production to our channel for all the latest us on us on twitter madman entertainment', '53055.0', '1221.0', 'animation genre', 'anime', 'interesting away award winning work', 'madman', 'madman anime', 'studio production company', 'trailer'], ['P10AWBi4-y8', 'rosemary s baby movie clip t you his mother', 'rosemary s baby movie clip the movie miss the new description roman sidney rosemary farrow to rock her baby movie description in roman s first american movie from ira levin s fear a young wife comes to think that her offspring is not of this international rosemary woodhouse farrow and her struggling actor husband guy john go into the an old new york city apartment building with an ominous reputation and only elderly roman and minnie sidney and ruth gordon soon come nosing around to welcome the to the building despite rosemary s about their eccentricity and the strange that she hearing guy spending time with the shortly after guy a plum broadway role minnie showing up with homemade chocolate mousse for rosemary when rosemary becomes pregnant after a mousse nightmare of being by a beast the take a special interest in her welfare as the rosemary becomes increasingly isolated she to suspect that the circle is not what it the diabolical truth is revealed only after rosemary birth and the baby is taken away from her s and richard s production plan transform the realistic setting shot on place in manhattan s dakota apartment building into a bad projection of rosemary s chillingly supernatural fear in the familiar by leaving the most grotesque to the viewer s imagination this apocalyptic yet darkly funny paranoia about the hallowed institution of childbirth touched a nerve with slow feeling uneasy about old produced by b fear maestro william castle rosemary s baby a critically hit winning gordon an oscar for best supporting actress interesting a wave of satanic fear from the exorcist to the omen rosemary s baby usher in the genre s new era by combining a supernatural story with alfred s propensity for finding normality horrific paramount cast ralph sidney john farrow patsy roman william castle ira levin roman are we the channel is the collection of licensed movie clip on the web here you will get unforgettable and from all your popular made by movie for movie subscribe to our movie movie central news us up', '946.0', '72.0', 'apartment', 'classic fear', 'farrow', 'movie clip', 'psychological', 'rosemary baby', 'rosemary baby clip', 'rosemary baby part', 'rosemary baby theme', 'rosemary baby trailer', 'rosemary woodhouse', 'william castle'], ['IT7-T-pqCCs', 'kevin i m sorry home alone', 'store home alone year after kevin was left home alone and had to defeat a pair of he accidentally himself in new york city and the same are not far slow subscribe to channel video', '656.0', '35.0', 'christmas movie', 'christmas reunion', 'home alone', 'home alone best', 'home alone christmas reunion'], ['m2Q6PSkmjZg', 'top a beautiful day in the neighborhood got factually right', 'for even more kindness these are the top s a beautiful day in the neighborhood directed by heller and starring tom and matthew got factually true can a person really be this kind and true for this list we re taking a look at the in this biographical drama that right to the of both fred and tom the journalist who wrote the esquire article it is based on can you say hero there is a spoiler alert of in put here a beautiful day in the neighborhood got a lot factually true love mr photography his swimming hobby and his vegetarianism and more join as we break down what a beautiful day in the neighborhood got factually true what s your popular mr moment let us know in the below check out more awesome inform from below top got factually true and bad ford v got factually true and bad', '5061.0', '153.0', 'drama', 'list', 'look mojo', 'top'], ['3isQI0nXQRE', 'back to the future opening title sequence', 'help to the future min adventure comedy fi july your rating from user doc brown time move in marty accidentally his from meeting his have existence at stake director robert robert bob michael j fox christopher lloyd and lea', '2571.0', '112.0', 'help future', 'movie'], ['sRYFIEtvX1w', 'big sky movie clip mirage bella thriller', 'subscribe to movie to to coming soon us on us on twitter sky movie clip mirage bella thriller teen traveling with her mother to a treatment center for her agoraphobia to fight for their against a gunman who them you re quite the one t you fandango movie is the destination for well all related to movie if you want to put up with the latest festival news art house movie inform movie and so great more then you have found the true channel', '68.0', '6.0', 'big sky', 'big sky movie', 'movie clip', 'thriller'], ['-0WqJcmx8-E', 'the ascent snow scene', 'the ascent now streaming on emotionally overwhelming final movie won the golden have at the berlin movie festival and been around the international as the soviet movie of its decade put during international war s days the ascent the path of two peasant cut off from their troop who move through the snowy backwoods of seeking refuge among their harrowing move leads them on a move of betrayal heroism and ultimate transcendence boris vladimir you the best foreign cult classic quiet and hard to get and is the strange streaming home of the criterion collection try today for days free and look a international of new to fall in love with our on twitter on', '21.0', '0.0', 'criterion collection', 'independent'], ['VKTT-sy0aLg', 'the mirror scene duck soup movie clip', 'duck soup movie clip the movie miss the new description pinky to be firefly s reflection matching his every go until chico the put movie description in this movie the mythical country of is broke and on the verge of revolution mrs margaret s important benefactress will lend the country million if the president and the government in the of the', '3156.0', '69.0', 'duck soup', 'duck soup trailer', 'margaret', 'movie clip', 'political'], ['y7wzBVARwaU', 'bad times at the el royale official trailer century fox', 'now on digital on ray each with a secret to bury meet at lake s el royale a hotel with a dark past over the course of one fateful night everyone will have a latest shot at redemption before everything goes to hell jeff chris jon dakota and cynthia lead an all star cast in awful times at the el royale cast jeff cynthia dakota jon lewis pullman cut and chris and directed by drew with awful times at the el royale visit the awful times at the el royale awful times at the el royale on awful times at the el royale on twitter awful times at the el royale on century fox official channel for century fox home of x men die hard ice age alvin and the rio maze runner planet of the wolverine and many more connect with century fox visit the century fox century fox on century fox on twitter times at the el royale official trailer century fox', '27437.0', '1211.0', 'trailer'], ['PGqB6JIUzBo', 'stuck in the middle with you reservoir dogs movie clip', 'reservoir dogs movie clip the movie miss the new description mr blonde michael to the beat of', '9624.0', '274.0', 'michael', 'movie clip', 'reservoir dogs'], ['rrpC7Nf4rBI', 'the of das trailer oscar s best foreign movie', 'the of school best foreign movie winner trailer', '54.0', '5.0', 'foreign movie', 'oscar', 'school', 'trailer'], ['UdT8lSEVHZU', 'stagecoach movie clip apache attack', 'stagecoach movie clip the movie miss the new description curly johnny cash and the other men defend the stagecoach from an apache ambush movie description the of country music johnny cash and willie nelson team up and head across the southwestern desert braving and conflict in this made for television version of john ford s classic movie cast willie nelson kris johnny cash elizabeth anthony mary crosby john schneider robert ted raymond willie nelson hal w robert michael jack james lee barrett ernest dudley are we the channel is the collection of licensed movie clip on the web here you will get unforgettable and from all your popular made by movie for movie subscribe to our movie movie central news us up', '150.0', '16.0', 'stagecoach', 'stagecoach festival', 'stagecoach trailer', 'stagecoach west', 'stagecoach west fat'], ['glRz_rIi5r8', 'fatal attraction signal to kill full screen', 'fatal attraction signal to destroy fat hide fatal attraction signal to destroy fat hide fatal attraction signal to destroy fat hide thanks fan s fatal attraction fat season for timing this part comment subscribe follow subscribe bit ly twitter fatal attraction fat season for my man none of these music video clip were by us this video is purely fan made if you want to take this video please contact us directly before doing anything we will respectfully take it', '11.0', '5.0', 'fat hide', 'fatal attraction'], ['mhiYuXznTsE', 'official trailer adam pally comedy', 'starring thomas adam pally alex ross official trailer adam pally his engagement suddenly and a few his decide to take advantage of what was supposed to be his bachelor party in california in their attempt to help trade with the new turn of the turn the getaway into a raucous weekend filled with booze debauchery and hot subscribe to to coming soon us on us on twitter the fandango channel is your destination for the new the sub they fall whether it s the latest studio release an fear flick an evocative documentary or that new you been waiting for the fandango team is here day and night to make definite all the best new movie are here for you the moment they re in addition to being the movie channel on we inform amazing and interesting new each week look our strange ultimate instant trailer monthly movie news and so great more to put you in the know here at fandango we love as great as you', '1111.0', '354.0', 'movie clip', 'official', 'trailer'], ['G8evwxMR5U0', 'edgar allan poe the pit and the pendulum with read by christopher lee', 'this is edgar allan poe s story', '885.0', '33.0', 'edgar allan poe'], ['hGBij9QLCRc', 'in the year of the pig', 'de antonio s documentary and strong story about war with archival footage and a by john cage an early movie to bitterly comment on the war in', '9.0', '0.0', 'anti war', 'antonio', 'de', 'pig', 'war', 'year'], ['hWetWsvHnyg', 'paris texas film ending of', 'the scene in movie history not done for income based is done in right use if there are any then don t hesitate to make in contact paris texas distributed by palace and century fox produced by anatole don guest and chris directed by wim written by l m kit and sam starring harry dean and out this i made of the movie of all time this scene is on it please have link', '220.0', '5.0', 'best scene', 'cinema', 'harry dean', 'monologue', 'movie', 'paris texas', 'western'], ['Eh993__rOxA', 'me before you official trailer emilia sam movie', 'subscribe to to coming soon us on us on twitter before you official trailer emilia sam movie girl in a little town an unlikely bond with a recently man she s taking care of the fandango channel is your destination for the new the sub they fall whether it s the latest studio release an fear flick an evocative documentary or that new you been waiting for the fandango team is here day and night to make definite all the best new movie are here for you the moment they re in addition to being the movie channel on we inform amazing and interesting new each week look our strange ultimate instant trailer monthly movie news and so great more to put you in the know here at fandango we love as great as you', '161140.0', '2738.0', 'movie clip', 'official', 'trailer'], ['mP563-eGwGA', 'of prey official trailer', 'emancipate this in warner of prey and the emancipation of one margot i as alongside mary elizabeth lane s as huntress bell s right blood as dark canary brave pitch perfect as chris argo s interesting as victor and upcoming doctor sleep the as roman newcomer ella jay also as cassandra cass cain in her feature movie debut directed by cathy yan stupid pig from a script by christina bumblebee the movie is based on from also produced alongside bryan and sue the movie s executive are walter galen geoff david and hans joining yan slow the was a creative team comprised of director of photography matthew a star is born venom production designer k k barrett her editor jay american hustle silver playbook and editor evan john wick and costume designer a star is born the music is by daniel spider man into the spider verse warner a clubhouse production a entertainment production of prey and the emancipation of one opening in beginning on february the movie will be distributed by warner', '1018.0', '76.0', 'warner'], ['Jdudq9gHJzY', 'jackson wang dawn of us official music video', 'official music video for jackson wang s', '710535.0', '4300.0', 'jackson', 'jackson wang', 'official', 'pop', 'team', 'wang'], ['xhwLWJrdZBk', 'it one night official trailer won oscar best picture', 'a bad heiress racing away from her family is by a man who s actually a reporter looking for a story director frank robert screenplay samuel short story clark gable and walter', '96.0', '3.0', 'best describe', 'official trailer', 'oscar', 'oscar winner', 'school', 'school award best describe'], ['gYBDRAp4Or8', 'the african queen trailer classic', 'check out the official the african queen trailer starring humphrey bogart let us know what you think in the below take or rent on starring humphrey bogart katharine robert by john in during international war i a gin captain is persuaded by a strait laced missionary to use his boat to attack an enemy warship look more classic romantic your movie obsession subscribe to classic look love us on follow us on twitter follow us on to the fandango classic channel to rediscover all your popular movie and get a classic you may have', '25.0', '2.0', 'drama', 'fandango', 'trailer'], ['XzvodixzpgE', 'the best pastrami sandwich in best of the best', 'insider s ro and visit four of the best to make pastrami in new york city they visit harry ida s s david s brisket house and ave to look how each restaurant their important pastrami sandwich the two try each one and ultimately decide which one is the best of the best ro best of the best inform the best chocolate chip in best of the best best in best of the best best in la best of the best is good journalism about what passionate people actually want to know that s everything from news to food celebrity to science politics to sports and all the rest it s neat it s brave it s comedy we push the of digital storytelling our mission is to tell and inspire visit us at to our channel food insider on insider on insider on twitter on on amazon prime on on best pastrami sandwich in best of the best', '9242.0', '488.0', 'food insider', 'insider'], ['#NAME?', 'little miss sunshine movie clip frankly speaking', 'little miss sunshine movie clip the movie play miss the new description at the dinner table frank steve to olive abigail the series of that led him to attempt suicide movie description when a fat bespectacled seven year old olive abigail her desire to take home the little miss sunshine crown at an upcoming beauty pageant her wildly family out on an interstate road move to ensure her a definite shot at realizing her in old music video directorial team jonathan and valerie quirky feature debut starring greg steve and despite early career success as an outspoken motivational speaker family patriarch richard to cling to his', '1503.0', '22.0', 'comedy', 'communication', 'jonathan', 'little miss sunshine', 'michael', 'peter saraf', 'valerie'], ['ajePV_jTTqY', 'brittany a marathon trailer comedy movie', 'brittany a marathon trailer comedy movie amazon', '17320.0', '294.0', 'brittany marathon', 'comedy', 'marathon', 'movie', 'trailer'], ['3Ih-GoaoFwA', 'the real texas massacre crime documentary real', 'the true texas massacre how a old mental patient with gun to his name could have become a pillar of british society and been to hoard by the police and how a disabled pensioner to tell his past the movie also at why us recently to extradite the new texas killer to face new evidence want to look more fat length click here us on twitter for more licensed from digital group any please contact us at by zig zag', '11164.0', '1020.0', 'fat documentary'], ['nqzz-bUoepI', 'sonic the hedgehog the movie trailer w new', 'if you love this video please leave a love and comment and part this video as it really does help a lot thanks for all your keep sonic destiny', '7629.0', '174.0', 'sonic', 'sonic hedgehog'], ['T4mG-4HBn1w', 'the bad and the beautiful trailer', 'the awful and the beautiful trailer subscribe of the most delicious hollywood made about itself this and all portrait of a ruthlessly ambitious producer is also one among the most truthful for and more information click here more on the player us on twitter us on us on', '157.0', '4.0', 'movie'], ['YBzWTIexszQ', 'of men movie clip miracle cease fire', 'of men movie clip the movie miss the new description theo clive owen kee clare hope and the baby out of the building past who lower their at the look of the miracle movie description y tu and harry potter and the prisoner of director alfonso to the helm to tell this futuristic story in which society is without hope since humankind lost its ability to procreate the year is and can no longer give birth the inhabitant of the planet right at the age of and all hope for humanity been lost as civilization into chaos a dying international one latest chance for survival in the make of a woman who become inexplicably pregnant now as nationalistic clash and british try to keep their totalitarian stronghold on the country a bureaucrat clive owen is brought help into the fold of activism by his guerrilla ex wife moore reluctantly he on the daunting task of kee claire hope the refugee who humankind s latest hope for survival out of hurt s plan and into the care of a mysterious organization known as the human project charlie and michael star in this adaptation of author p d james s interesting new international cast clive owen clare hope alfonso marc abraham thomas a bliss pablo eric hilary shor smith tony alfonso timothy j sexton david mark fergus hawk p d are we the channel is the collection of licensed movie clip on the web here you will get unforgettable and from all your popular made by movie for movie subscribe to our movie movie central news us up', '7545.0', '151.0', 'action adventure', 'action fi fantasy', 'alfonso', 'clive owen', 'fi fantasy', 'juan gabriel', 'marc abraham', 'movie clip', 'thomas bliss'], ['T5qeaxu4n3A', 'the stranger official trailer', 'this is a movie trailer i made for my english class it s for the book the stranger by albert camus the video clip are from other that i put not take ownership of', '17.0', '3.0', 'trailer'], ['F2_H9b0H4d0', 'winter sleep official us release trailer bilge drama', 'subscribe to to coming soon to movie us on us on twitter sleep official us release trailer bilge drama a old actor a little hotel in central with his young wife nihal with whom he a stormy relationship and his sister who is suffering from her new divorce in winter as the snow to fall the hotel turns into a shelter but also an inescapable put that their', '982.0', '44.0', 'drama', 'movie', 'official', 'trailer'], ['rSWBuZws30g', 'the jerk movie clip that s all i need', 'the jerk movie clip the movie miss the new description steve martin rock bottom leaving marie at the house taking only his chair and move ball game and lamp movie description carl reiner steve martin who wrote the script with carl gottlieb in this gag laden comedy about an idiotic white man raised by a unhappy family of dark who t realize he s not dark r steve martin is told the ugly truth when he himself instinctively tapping his to an easy listening tune on the radio instead of a gross down blues his mother mabel king him he s white and to the road in a international war bomber helmet and to begin a new life in st louis a filling place owner harry mason give his first break him to pump gas one day at the place a an invention', '1707.0', '68.0', 'carl reiner', 'cat juggler', 'comedy', 'david v picker', 'engineer fred', 'jerk', 'jerk clip', 'jerk dance', 'jerk song', 'movie clip', 'peter scott', 'screwball', 'slapstick', 'steve martin', 'william e'], ['YgSW4fnmlKs', 'best upcoming movie april', 'best upcoming movie april sonic the racing angry star the rise of the lion child s gemini men in dark x men dark the my the secret life of the king of the detective', '68724.0', '5640.0', 'best', 'compilation', 'dark phoenix', 'movie', 'movie trailer', 'new', 'trailer compilation', 'upcoming', 'x men'], ['VdxswwzItnY', 'enter the girl dragon teaser india s first martial film', 's enter the girl dragon teaser enter the girl dragon is india s first martial movie and an chinese production movie directed by ram starring music by ravi shankar produced by jing naresh t sridhar t cast ram jing naresh t sridhar shan v v ravi track gwen ravi here to look lo trailer trailer of beautiful song from lo movie feeling song lo movie lo title song lo motion poster more about subscribe follow', '74239.0', '7083.0', 'bruce lee movie', 'enter girl dragon movie', 'enter girl dragon movie teaser', 'enter girl dragon teaser', 'enter girl dragon telugu movie', 'enter girl dragon trailer', 'fat length telugu', 'india first martial movie', 'latest telugu', 'new movie', 'new movie teaser', 'ram new movie', 'thug life'], ['1_Lznehy2-s', 'certain official trailer kristen stewart movie', 'starring kristen stewart michelle and laura official trailer michelle to to coming soon us on us on twitter of three intersect in little town america where each is imperfectly blazing a move the fandango channel is your destination for the new the sub they fall whether it s the latest studio release an fear flick an evocative documentary or that new you been waiting for the fandango team is here day and night to make definite all the best new movie are here for you the moment they re in addition to being the movie channel on we inform amazing and interesting new each week look our strange ultimate instant trailer monthly movie news and so great more to put you in the know here at fandango we love as great as you', '3443.0', '960.0', 'drama', 'movie clip', 'official', 'trailer'], ['1s4aAp8OxGg', 'the dark knight trilogy epic retrospective', 'the dark knight trilogy some of the best superhero ever made no tell that as perfectly as christopher s trilogy three that look the formative of the legendary superhero batman from the beginning of his crusade for justice to the explosive climax update the dark knight trilogy story retrospective with sub and mix by james howard hans batman the dark knight the dark knight', '40943.0', '490.0', 'batman', 'dark', 'knight'], ['CX7U5p-8uog', 'scorpio rising ascendant scorpio rising ascendant', 'i m going to be the of the scorpio rising placement contact me for a personal natal chart reading to read your natal chart how to read your birth chart for astrology to astrology how to understand astrology astrology sun moon rising to the what put the mean astrology sun moon rising scorpio energy astrology scorpio energy cash', '460.0', '3.0', 'astrology', 'scorpio']]\n"
     ]
    }
   ],
   "source": [
    "with open(read_link, newline='', encoding='utf8') as f:\n",
    "    lines = itertools.islice(f,1+thres,None)\n",
    "    reader = csv.reader(lines)\n",
    "\n",
    "    row_num=0\n",
    "    j=0\n",
    "    for row in reader:\n",
    "        if row_num==num_list[j]:\n",
    "            #check_see+=1\n",
    "            list2=[]\n",
    "            for i in range(0,5):\n",
    "                list2.append(row[i])\n",
    "            list2.extend(all_predicted_labels[row_num])\n",
    "            tot_list.append(list2)\n",
    "            \n",
    "            if j==len(num_list)-1:\n",
    "                break;\n",
    "            \n",
    "            j+=1\n",
    "        row_num+=1\n",
    "    print(tot_list)\n",
    "    "
   ]
  },
  {
   "cell_type": "code",
   "execution_count": 18,
   "metadata": {},
   "outputs": [],
   "source": [
    "# Writing to file the predicted labels which rendered an output of at least 1 label\n",
    "\n",
    "write_link='final_predicted_data.csv'\n",
    "\n",
    "with open(write_link, 'w', newline='') as f:\n",
    "    writer = csv.writer(f)\n",
    "    writer.writerows(tot_list)"
   ]
  },
  {
   "cell_type": "code",
   "execution_count": 19,
   "metadata": {},
   "outputs": [],
   "source": [
    "read_link='final_predicted_data.csv'\n",
    "\n",
    "clean_link='without_duplicates_final_predicted_data.csv'\n",
    "\n",
    "# Removing duplicate rows from the data set\n",
    "with open(read_link, 'r') as in_file, open(clean_link, 'w') as out_file:\n",
    "    seen = set()\n",
    "    for line in in_file:\n",
    "        if line in seen: continue\n",
    "            \n",
    "        seen.add(line)\n",
    "        out_file.write(line)"
   ]
  },
  {
   "cell_type": "code",
   "execution_count": 50,
   "metadata": {},
   "outputs": [
    {
     "name": "stdout",
     "output_type": "stream",
     "text": [
      "0\n",
      "133\n"
     ]
    }
   ],
   "source": [
    "print(acc)\n",
    "#print(count_acc)\n",
    "#real_acc=acc/len(Y_test)\n",
    "#curr_acc=acc/count_acc\n",
    "avg_recall=real_acc/count_num\n",
    "avg_precision=real_acc1/count_num\n",
    "avg_f1_score=real_acc2/count_num\n",
    "#print(len(test_data))\n",
    "print(count_num)\n",
    "#avg_precision1=real_acc1/count_num\n",
    "#print(avg_precision1)\n",
    "#print(check_see)"
   ]
  },
  {
   "cell_type": "code",
   "execution_count": 21,
   "metadata": {
    "scrolled": false
   },
   "outputs": [
    {
     "name": "stdout",
     "output_type": "stream",
     "text": [
      "0.43696543941295596\n",
      "0.8924284466577697\n",
      "0.5100306795787977\n"
     ]
    }
   ],
   "source": [
    "# Accuracy measures\n",
    "\n",
    "# First accuracy is the recall value\n",
    "\n",
    "# Second accuracy is the precision value\n",
    "\n",
    "# Third accuracy is the f1 score which takes precision and recall values\n",
    "\n",
    "print(avg_recall)\n",
    "print(avg_precision)\n",
    "print(avg_f1_score)"
   ]
  },
  {
   "cell_type": "code",
   "execution_count": 65,
   "metadata": {},
   "outputs": [
    {
     "name": "stdout",
     "output_type": "stream",
     "text": [
      "565\n",
      "216\n"
     ]
    }
   ],
   "source": [
    "print(len(Y_test))\n",
    "print(len(test_data))"
   ]
  },
  {
   "cell_type": "code",
   "execution_count": 66,
   "metadata": {},
   "outputs": [
    {
     "data": {
      "text/plain": [
       "'\\nY_test[0]=[\\'news\\']\\ntext_labels[0]=(\\'news\\',\\' \\')\\nY_test[1]=[\\'beautiful\\', \\'cute\\', \\'love\\', \\'girl\\', \\'comedy\\']\\ntext_labels[1]=(\\'beautiful\\', \\'comedy\\', \\'cute\\', \\'girl\\', \\'love\\')\\n\\nY_test[2]=[\\'mobile\\']\\ntext_labels[2]=(\\'mobile\\', \\'technical\\')\\nprint(str(Y_test[1])+\"---->\"+str(text_labels[1]))\\nlen(set(Y_test[2]) & set(text_labels[2]))/len(set(text_labels[2]))\\n'"
      ]
     },
     "execution_count": 66,
     "metadata": {},
     "output_type": "execute_result"
    }
   ],
   "source": [
    "# Testing phase\n",
    "'''\n",
    "Y_test[0]=['news']\n",
    "text_labels[0]=('news',' ')\n",
    "Y_test[1]=['beautiful', 'cute', 'love', 'girl', 'comedy']\n",
    "text_labels[1]=('beautiful', 'comedy', 'cute', 'girl', 'love')\n",
    "\n",
    "Y_test[2]=['mobile']\n",
    "text_labels[2]=('mobile', 'technical')\n",
    "print(str(Y_test[1])+\"---->\"+str(text_labels[1]))\n",
    "len(set(Y_test[2]) & set(text_labels[2]))/len(set(text_labels[2]))\n",
    "'''"
   ]
  },
  {
   "cell_type": "code",
   "execution_count": null,
   "metadata": {},
   "outputs": [],
   "source": []
  }
 ],
 "metadata": {
  "kernelspec": {
   "display_name": "Python 3",
   "language": "python",
   "name": "python3"
  },
  "language_info": {
   "codemirror_mode": {
    "name": "ipython",
    "version": 3
   },
   "file_extension": ".py",
   "mimetype": "text/x-python",
   "name": "python",
   "nbconvert_exporter": "python",
   "pygments_lexer": "ipython3",
   "version": "3.7.3"
  }
 },
 "nbformat": 4,
 "nbformat_minor": 2
}
